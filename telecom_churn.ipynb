{
 "cells": [
  {
   "cell_type": "markdown",
   "metadata": {},
   "source": [
    "# Telecom Churn"
   ]
  },
  {
   "cell_type": "markdown",
   "metadata": {},
   "source": [
    "## About Dataset"
   ]
  },
  {
   "cell_type": "markdown",
   "metadata": {},
   "source": [
    "### About The Dataset"
   ]
  },
  {
   "cell_type": "markdown",
   "metadata": {},
   "source": [
    "The selected data source is the open-source Cell2Cell dataset provided by the Teradata Center for Customer Relationship Management at Duke University.\n",
    "\n",
    "This preprocessed Cell2Cell dataset has been balanced for process analysis, comprising 71,047 instances and 58 attributes. We can employ both traditional machine learning and deep learning algorithms to assess metrics such as accuracy, ROC, and AUC.\n",
    "\n",
    "In the telecom industry, intense competition exists in satisfying customers. The churn prediction system's role extends beyond accurately predicting churners to understanding customer churn behavior.\n",
    "\n",
    "Churn management in the telecom sector aims to retain customers for a company. Effective customer management involves anticipating when a customer may switch to another service provider, assessing customer profitability, and implementing a range of strategic and tactical retention strategies to minimize customer attrition.\n",
    "\n",
    "In practical terms, we can categorize customers by profitability and concentrate retention efforts on the profitable segments. Additionally, we can assign a churn propensity score to the entire customer base, enabling us to prioritize retention initiatives based on both profitability and churn likelihood.\n",
    "\n",
    "https://www.kaggle.com/datasets/jpacse/datasets-for-churn-telecom"
   ]
  },
  {
   "cell_type": "markdown",
   "metadata": {},
   "source": [
    "## Spark and Other Imports"
   ]
  },
  {
   "cell_type": "code",
   "execution_count": 54,
   "metadata": {},
   "outputs": [],
   "source": [
    "import pyspark\n",
    "from pyspark import SparkConf\n",
    "from pyspark.sql import SparkSession\n",
    "from pyspark.sql import functions as F\n",
    "from pyspark.sql.functions import col, split, regexp_replace, udf, struct, lit,  trim, asc, desc, round, mean\n",
    "from pyspark.sql.functions import isnan, when, count , isnull , col, substring\n",
    "from pyspark.sql.functions import to_timestamp, to_date, unix_timestamp, date_format, hour   ### --> Date manipulation\n",
    "from pyspark.sql.types import StructField, StructType, StringType, IntegerType, FloatType\n",
    "\n",
    "from pyspark.ml import Pipeline\n",
    "from pyspark.ml.feature import VectorAssembler, StringIndexer, VectorIndexer, MinMaxScaler, OneHotEncoder,StandardScaler\n",
    "from pyspark.ml.tuning import CrossValidator, ParamGridBuilder, TrainValidationSplit\n",
    "from pyspark.ml.linalg import Vectors\n",
    "from pyspark.ml.regression import LinearRegression\n",
    "from pyspark.ml.classification import RandomForestClassifier, GBTClassifier\n",
    "from pyspark.ml.clustering import KMeans\n",
    "from pyspark.ml.linalg import Vectors\n",
    "from pyspark.ml.evaluation import RegressionEvaluator, BinaryClassificationEvaluator, ClusteringEvaluator , MulticlassClassificationEvaluator"
   ]
  },
  {
   "cell_type": "code",
   "execution_count": 2,
   "metadata": {},
   "outputs": [],
   "source": [
    "import numpy as np\n",
    "import pandas as pd\n",
    "import matplotlib.pyplot as plt\n",
    "import seaborn as sns\n",
    "import datetime as dt\n",
    "import regex as re\n",
    "import os\n"
   ]
  },
  {
   "cell_type": "code",
   "execution_count": 3,
   "metadata": {},
   "outputs": [],
   "source": [
    "from sklearn.model_selection import train_test_split, GridSearchCV\n",
    "from sklearn.preprocessing import StandardScaler\n",
    "from sklearn.metrics import roc_curve, auc, classification_report\n",
    "from sklearn import metrics\n",
    "\n",
    "import keras\n",
    "from keras import Sequential, regularizers\n",
    "from tensorflow.keras.optimizers import SGD , RMSprop, Adam\n",
    "from keras.layers import Dense, Dropout, Activation\n",
    "from keras.wrappers.scikit_learn import KerasRegressor\n",
    "from keras.utils import np_utils\n",
    "import xgboost as xgb"
   ]
  },
  {
   "cell_type": "markdown",
   "metadata": {},
   "source": [
    "### Spark session"
   ]
  },
  {
   "cell_type": "code",
   "execution_count": 4,
   "metadata": {},
   "outputs": [
    {
     "name": "stderr",
     "output_type": "stream",
     "text": [
      "Setting default log level to \"WARN\".\n",
      "To adjust logging level use sc.setLogLevel(newLevel). For SparkR, use setLogLevel(newLevel).\n"
     ]
    },
    {
     "name": "stdout",
     "output_type": "stream",
     "text": [
      "23/09/28 22:45:25 WARN NativeCodeLoader: Unable to load native-hadoop library for your platform... using builtin-java classes where applicable\n"
     ]
    }
   ],
   "source": [
    "# Create SparkSession in local environment\n",
    "spark = (\n",
    "    SparkSession.builder.appName(\"Telecom_Churn\")  # create a name\n",
    "    .config(\"spark.executor.memory\", \"10g\")  # Maximum amount of memory allowed\n",
    "    .config(\"spark.executor.cores\", \"3\")  # Maximum cpu threads allowed\n",
    "    .config(\"spark.cores.max\", \"3\")\n",
    "    .config(\"spark.driver.memory\", \"10g\")\n",
    "    .config(\"spark.sql.broadcastTimeout\", \"9000\")\n",
    "    .getOrCreate()\n",
    ")\n",
    "# SparkConf().getAll()"
   ]
  },
  {
   "cell_type": "markdown",
   "metadata": {},
   "source": [
    "## Importing Dataset"
   ]
  },
  {
   "cell_type": "markdown",
   "metadata": {},
   "source": [
    "#### Import the training dataset"
   ]
  },
  {
   "cell_type": "code",
   "execution_count": 5,
   "metadata": {},
   "outputs": [
    {
     "name": "stderr",
     "output_type": "stream",
     "text": [
      "                                                                                \r"
     ]
    }
   ],
   "source": [
    "df = spark.read.csv(\"cell2celltrain.csv\", header=\"true\", inferSchema=True)\n",
    "df = df.na.drop()"
   ]
  },
  {
   "cell_type": "code",
   "execution_count": 6,
   "metadata": {},
   "outputs": [
    {
     "name": "stdout",
     "output_type": "stream",
     "text": [
      "23/09/28 22:45:51 WARN package: Truncated the string representation of a plan since it was too large. This behavior can be adjusted by setting 'spark.sql.debug.maxToStringFields'.\n"
     ]
    },
    {
     "name": "stderr",
     "output_type": "stream",
     "text": [
      "[Stage 4:>                                                          (0 + 1) / 1]\r"
     ]
    },
    {
     "name": "stdout",
     "output_type": "stream",
     "text": [
      "+-------+------------------+-----+------------------+-----------------+--------------------+---------------------+-----------------+------------------+------------------+------------------+-----------------+-----------------+------------------+------------------+-------------------+------------------+------------------+------------------+------------------+-----------------+-------------------+--------------------+------------------+------------------+------------------+------------------+-----------+------------------+------------------+--------------------+-----------------+------------------+------------+------------------+-----------------+----------+-------+-------------+----------------+--------------------+--------------+-----------+------------+-------------+-------------------+-----------------------+----------------+-------------------+-------------------------+-----------------+--------------+-------------------------+-----------------+-----------------------+------------+---------+----------+-------------+\n",
      "|summary|        CustomerID|Churn|    MonthlyRevenue|   MonthlyMinutes|TotalRecurringCharge|DirectorAssistedCalls|   OverageMinutes|      RoamingCalls| PercChangeMinutes|PercChangeRevenues|     DroppedCalls|     BlockedCalls|   UnansweredCalls| CustomerCareCalls|      ThreewayCalls|     ReceivedCalls|     OutboundCalls|      InboundCalls|    PeakCallsInOut|OffPeakCallsInOut|DroppedBlockedCalls| CallForwardingCalls|  CallWaitingCalls|   MonthsInService|        UniqueSubs|        ActiveSubs|ServiceArea|          Handsets|     HandsetModels|CurrentEquipmentDays|           AgeHH1|            AgeHH2|ChildrenInHH|HandsetRefurbished|HandsetWebCapable|TruckOwner|RVOwner|Homeownership|BuysViaMailOrder|RespondsToMailOffers|OptOutMailings|NonUSTravel|OwnsComputer|HasCreditCard|     RetentionCalls|RetentionOffersAccepted|NewCellphoneUser|NotNewCellphoneUser|ReferralsMadeBySubscriber|      IncomeGroup|OwnsMotorcycle|AdjustmentsToCreditRating|     HandsetPrice|MadeCallToRetentionTeam|CreditRating|PrizmCode|Occupation|MaritalStatus|\n",
      "+-------+------------------+-----+------------------+-----------------+--------------------+---------------------+-----------------+------------------+------------------+------------------+-----------------+-----------------+------------------+------------------+-------------------+------------------+------------------+------------------+------------------+-----------------+-------------------+--------------------+------------------+------------------+------------------+------------------+-----------+------------------+------------------+--------------------+-----------------+------------------+------------+------------------+-----------------+----------+-------+-------------+----------------+--------------------+--------------+-----------+------------+-------------+-------------------+-----------------------+----------------+-------------------+-------------------------+-----------------+--------------+-------------------------+-----------------+-----------------------+------------+---------+----------+-------------+\n",
      "|  count|             51023|51023|             51023|            51023|               51023|                51023|            51023|             51023|             51023|             51023|            51023|            51023|             51023|             51023|              51023|             51023|             51023|             51023|             51023|            51023|              51023|               51023|             51023|             51023|             51023|             51023|      51023|             51023|             51023|               51023|            51023|             51023|       51023|             51023|            51023|     51023|  51023|        51023|           51023|               51023|         51023|      51023|       51023|        51023|              51023|                  51023|           51023|              51023|                    51023|            51023|         51023|                    51023|            51023|                  51023|       51023|    51023|     51023|        51023|\n",
      "|   mean|3201980.9628206887| null| 58.83160693573326|525.5988165215169|   46.83002732616431|   0.8950329290108912|40.02213615900289|1.2364322645330008|-11.58141187618446|-1.199370262160455|6.010944084040551| 4.08391313721268| 28.28831311369384|1.8674891715500757|0.29883189933951904|114.78512043588209|25.371220821982195|  8.17722595692144| 90.54893479411231|67.63501754110906| 10.155714089724226|0.012282696039041223|1.8403837485055556|18.756599964721794|1.5319365776218568|1.3541736079807145|       null|1.8056916624201325|1.5588177648857355|  380.56499157226295|31.33445743704354|21.141178113900306|        null|              null|             null|      null|   null|         null|            null|                null|          null|       null|        null|         null|  0.037198910295357|    0.01826627207337867|            null|               null|      0.05209415361699626|4.323873547223801|          null|     0.053936460027830584|82.25401287748254|                   null|        null|     null|      null|         null|\n",
      "| stddev|116913.95674111726| null|44.509141362269986|529.8725065867434|  23.849128343470433|       2.228365241743| 96.5997621029654| 9.820441273059613|257.52940058904187| 39.57450277592544| 9.04477343871209|10.94533983178327|38.879473374855664| 5.086507594065271|   1.16851381259538| 166.4902546906882| 35.20296437195856|16.667845492202222|104.96326484997927|92.74524695245331|  15.55444499539716|  0.5943080007973099|  5.58589187701856| 9.801269213170993|1.2233414937730993|0.6752297815791967|       null|1.3313299109056036|0.9060553182538857|   253.8225884952892|22.09739976344508|23.932273187790404|        null|              null|             null|      null|   null|         null|            null|                null|          null|       null|        null|         null|0.20648593298561563|      0.142425045080228|            null|               null|       0.3076620029082497|3.138365704853974|          null|       0.3832353430624939| 60.4074997302811|                   null|        null|     null|      null|         null|\n",
      "|    min|           3000002|   No|             -2.52|                0|                  -1|                    0|                0|                 0|                -1|              -0.1|              0.0|              0.0|               0.0|               0.0|                0.0|               0.0|               0.0|               0.0|               0.0|              0.0|                0.0|                 0.0|               0.0|                 6|                 1|                 0|  AIRAIK803|                 1|                 1|                  -1|                0|                 0|          No|                No|               No|        No|     No|        Known|              No|                  No|            No|         No|          No|           No|                  0|                      0|              No|                 No|                        0|                0|            No|                        0|               10|                     No|   1-Highest|    Other|  Clerical|           No|\n",
      "|    max|           3399994|  Yes|                NA|               NA|                  NA|                   NA|               NA|                NA|                NA|                NA|            221.7|            384.3|             848.7|             327.3|               66.0|            2692.4|             644.3|             519.3|            2090.7|           1474.7|              411.7|                81.3|             212.7|                61|               196|                53|  VAHWAY540|                NA|                NA|                  NA|               NA|                NA|         Yes|               Yes|              Yes|       Yes|    Yes|      Unknown|             Yes|                 Yes|           Yes|        Yes|         Yes|          Yes|                  4|                      3|             Yes|                Yes|                       35|                9|           Yes|                       25|          Unknown|                    Yes|    7-Lowest|     Town|   Student|          Yes|\n",
      "+-------+------------------+-----+------------------+-----------------+--------------------+---------------------+-----------------+------------------+------------------+------------------+-----------------+-----------------+------------------+------------------+-------------------+------------------+------------------+------------------+------------------+-----------------+-------------------+--------------------+------------------+------------------+------------------+------------------+-----------+------------------+------------------+--------------------+-----------------+------------------+------------+------------------+-----------------+----------+-------+-------------+----------------+--------------------+--------------+-----------+------------+-------------+-------------------+-----------------------+----------------+-------------------+-------------------------+-----------------+--------------+-------------------------+-----------------+-----------------------+------------+---------+----------+-------------+\n",
      "\n"
     ]
    },
    {
     "name": "stderr",
     "output_type": "stream",
     "text": [
      "                                                                                \r"
     ]
    }
   ],
   "source": [
    "df.describe().show()"
   ]
  },
  {
   "cell_type": "markdown",
   "metadata": {},
   "source": [
    "#### Delete the rows with 'NA' values"
   ]
  },
  {
   "cell_type": "code",
   "execution_count": 7,
   "metadata": {},
   "outputs": [],
   "source": [
    "for column in df.columns:\n",
    "    if df.schema[column].dataType == pyspark.sql.types.StringType():\n",
    "        df = df.filter(df[column] != \"NA\")"
   ]
  },
  {
   "cell_type": "markdown",
   "metadata": {},
   "source": [
    "#### Check the description of Churn column\n"
   ]
  },
  {
   "cell_type": "code",
   "execution_count": 8,
   "metadata": {},
   "outputs": [
    {
     "name": "stderr",
     "output_type": "stream",
     "text": [
      "[Stage 5:==============>                                            (1 + 3) / 4]\r"
     ]
    },
    {
     "name": "stdout",
     "output_type": "stream",
     "text": [
      "+-------+-----+\n",
      "|summary|Churn|\n",
      "+-------+-----+\n",
      "|  count|49752|\n",
      "|   mean| null|\n",
      "| stddev| null|\n",
      "|    min|   No|\n",
      "|    max|  Yes|\n",
      "+-------+-----+\n",
      "\n"
     ]
    },
    {
     "name": "stderr",
     "output_type": "stream",
     "text": [
      "                                                                                \r"
     ]
    }
   ],
   "source": [
    "df.select(\"Churn\").describe().show()"
   ]
  },
  {
   "cell_type": "markdown",
   "metadata": {},
   "source": [
    "## Data Manipulation"
   ]
  },
  {
   "cell_type": "markdown",
   "metadata": {},
   "source": [
    "### `String` Column Handling"
   ]
  },
  {
   "cell_type": "markdown",
   "metadata": {},
   "source": [
    "#### Type conversion of string columns into numerical"
   ]
  },
  {
   "cell_type": "code",
   "execution_count": 9,
   "metadata": {},
   "outputs": [
    {
     "data": {
      "text/plain": [
       "['Churn',\n",
       " 'MonthlyRevenue',\n",
       " 'MonthlyMinutes',\n",
       " 'TotalRecurringCharge',\n",
       " 'DirectorAssistedCalls',\n",
       " 'OverageMinutes',\n",
       " 'RoamingCalls',\n",
       " 'PercChangeMinutes',\n",
       " 'PercChangeRevenues',\n",
       " 'ServiceArea',\n",
       " 'Handsets',\n",
       " 'HandsetModels',\n",
       " 'CurrentEquipmentDays',\n",
       " 'AgeHH1',\n",
       " 'AgeHH2',\n",
       " 'ChildrenInHH',\n",
       " 'HandsetRefurbished',\n",
       " 'HandsetWebCapable',\n",
       " 'TruckOwner',\n",
       " 'RVOwner',\n",
       " 'Homeownership',\n",
       " 'BuysViaMailOrder',\n",
       " 'RespondsToMailOffers',\n",
       " 'OptOutMailings',\n",
       " 'NonUSTravel',\n",
       " 'OwnsComputer',\n",
       " 'HasCreditCard',\n",
       " 'NewCellphoneUser',\n",
       " 'NotNewCellphoneUser',\n",
       " 'OwnsMotorcycle',\n",
       " 'HandsetPrice',\n",
       " 'MadeCallToRetentionTeam',\n",
       " 'CreditRating',\n",
       " 'PrizmCode',\n",
       " 'Occupation',\n",
       " 'MaritalStatus']"
      ]
     },
     "execution_count": 9,
     "metadata": {},
     "output_type": "execute_result"
    }
   ],
   "source": [
    "# Going through all columns required to be transfer into numerical values\n",
    "columns_string = [\n",
    "    column\n",
    "    for column in df.columns\n",
    "    if df.schema[column].dataType == pyspark.sql.types.StringType()\n",
    "]\n",
    "columns_string"
   ]
  },
  {
   "cell_type": "code",
   "execution_count": 10,
   "metadata": {},
   "outputs": [],
   "source": [
    "# create the view of df under spark\n",
    "df.createOrReplaceTempView(\"df\")"
   ]
  },
  {
   "cell_type": "code",
   "execution_count": 11,
   "metadata": {},
   "outputs": [
    {
     "name": "stderr",
     "output_type": "stream",
     "text": [
      "[Stage 8:==============>                                            (1 + 3) / 4]\r"
     ]
    },
    {
     "name": "stdout",
     "output_type": "stream",
     "text": [
      "+-----+------------------+------------------+------------------------+------------------------+------------------+----------------+\n",
      "|Churn|avg_MonthlyRevenue|avg_MonthlyMinutes|avg_CurrentEquipmentDays|avg_TotalRecurringCharge|avg_OverageMinutes|avg_RoamingCalls|\n",
      "+-----+------------------+------------------+------------------------+------------------------+------------------+----------------+\n",
      "|   No|             59.06|            541.81|                  363.64|                   47.72|             38.82|            1.16|\n",
      "|  Yes|             57.87|            483.16|                  420.85|                   44.62|             42.08|            1.40|\n",
      "+-----+------------------+------------------+------------------------+------------------------+------------------+----------------+\n",
      "\n"
     ]
    },
    {
     "name": "stderr",
     "output_type": "stream",
     "text": [
      "                                                                                \r"
     ]
    }
   ],
   "source": [
    "# check the distribution of picked columns\n",
    "spark.sql(\n",
    "    \"SELECT \\\n",
    "            Churn, \\\n",
    "            CAST (avg(MonthlyRevenue) as decimal(8,2)) as avg_MonthlyRevenue, \\\n",
    "            CAST (avg(MonthlyMinutes) as decimal(8,2)) as avg_MonthlyMinutes, \\\n",
    "            CAST (avg(CurrentEquipmentDays) as decimal(8,2)) as avg_CurrentEquipmentDays, \\\n",
    "            CAST (avg(TotalRecurringCharge) as decimal(8,2)) as avg_TotalRecurringCharge, \\\n",
    "            CAST (avg(OverageMinutes) as decimal(8,2)) as avg_OverageMinutes, \\\n",
    "            CAST (avg(RoamingCalls) as decimal(8,2)) as avg_RoamingCalls \\\n",
    "            FROM df GROUP BY Churn\"\n",
    ").show()"
   ]
  },
  {
   "cell_type": "code",
   "execution_count": 12,
   "metadata": {},
   "outputs": [
    {
     "name": "stdout",
     "output_type": "stream",
     "text": [
      "+-----+--------------+--------------+--------------------+---------------------+--------------+------------+-----------------+------------------+-----------+--------+-------------+--------------------+------+------+------------+------------------+-----------------+----------+-------+-------------+----------------+--------------------+--------------+-----------+------------+-------------+----------------+-------------------+--------------+------------+-----------------------+------------+---------+------------+-------------+\n",
      "|Churn|MonthlyRevenue|MonthlyMinutes|TotalRecurringCharge|DirectorAssistedCalls|OverageMinutes|RoamingCalls|PercChangeMinutes|PercChangeRevenues|ServiceArea|Handsets|HandsetModels|CurrentEquipmentDays|AgeHH1|AgeHH2|ChildrenInHH|HandsetRefurbished|HandsetWebCapable|TruckOwner|RVOwner|Homeownership|BuysViaMailOrder|RespondsToMailOffers|OptOutMailings|NonUSTravel|OwnsComputer|HasCreditCard|NewCellphoneUser|NotNewCellphoneUser|OwnsMotorcycle|HandsetPrice|MadeCallToRetentionTeam|CreditRating|PrizmCode|  Occupation|MaritalStatus|\n",
      "+-----+--------------+--------------+--------------------+---------------------+--------------+------------+-----------------+------------------+-----------+--------+-------------+--------------------+------+------+------------+------------------+-----------------+----------+-------+-------------+----------------+--------------------+--------------+-----------+------------+-------------+----------------+-------------------+--------------+------------+-----------------------+------------+---------+------------+-------------+\n",
      "|  Yes|            24|           219|                  22|                 0.25|             0|           0|             -157|               -19|  SEAPOR503|       2|            2|                 361|    62|     0|          No|                No|              Yes|        No|     No|        Known|             Yes|                 Yes|            No|         No|         Yes|          Yes|              No|                 No|            No|          30|                    Yes|   1-Highest| Suburban|Professional|           No|\n",
      "|  Yes|         16.99|            10|                  17|                    0|             0|           0|               -4|                 0|  PITHOM412|       2|            1|                1504|    40|    42|         Yes|                No|               No|        No|     No|        Known|             Yes|                 Yes|            No|         No|         Yes|          Yes|             Yes|                 No|            No|          30|                     No|    4-Medium| Suburban|Professional|          Yes|\n",
      "|   No|            38|             8|                  38|                    0|             0|           0|               -2|                 0|  MILMIL414|       1|            1|                1812|    26|    26|         Yes|                No|               No|        No|     No|      Unknown|              No|                  No|            No|         No|          No|          Yes|             Yes|                 No|            No|     Unknown|                     No|      3-Good|     Town|      Crafts|          Yes|\n",
      "+-----+--------------+--------------+--------------------+---------------------+--------------+------------+-----------------+------------------+-----------+--------+-------------+--------------------+------+------+------------+------------------+-----------------+----------+-------+-------------+----------------+--------------------+--------------+-----------+------------+-------------+----------------+-------------------+--------------+------------+-----------------------+------------+---------+------------+-------------+\n",
      "only showing top 3 rows\n",
      "\n"
     ]
    }
   ],
   "source": [
    "# Check the values of string columns\n",
    "df.select([column for column in df.columns if column in columns_string]).show(3)"
   ]
  },
  {
   "cell_type": "markdown",
   "metadata": {},
   "source": [
    "#### Based on the values of the string columns, select the list of columns for StringIndexer"
   ]
  },
  {
   "cell_type": "code",
   "execution_count": 13,
   "metadata": {},
   "outputs": [],
   "source": [
    "columns_for_indexer = [ \"Churn\",\"ChildrenInHH\",\"HandsetRefurbished\",\"HandsetWebCapable\",\"TruckOwner\",\n",
    "                        \"RVOwner\",\"Homeownership\",\"BuysViaMailOrder\",\"RespondsToMailOffers\",\"OptOutMailings\",\n",
    "                        \"NonUSTravel\",\"OwnsComputer\",\"HasCreditCard\",\"NewCellphoneUser\",\"NotNewCellphoneUser\",\n",
    "                        \"OwnsMotorcycle\",\"MadeCallToRetentionTeam\",\"MaritalStatus\"\n",
    "                      ]"
   ]
  },
  {
   "cell_type": "code",
   "execution_count": 14,
   "metadata": {},
   "outputs": [
    {
     "name": "stderr",
     "output_type": "stream",
     "text": [
      "                                                                                \r"
     ]
    }
   ],
   "source": [
    "# Loop the list and use StringIndexer encodes the string columns of labels(Yes or No) to columns of label indices(1 or 0)\n",
    "for column in columns_for_indexer:\n",
    "    indexer = StringIndexer(inputCol=column, outputCol=column + \"Index\")\n",
    "    df = indexer.fit(df).transform(df)"
   ]
  },
  {
   "cell_type": "code",
   "execution_count": 15,
   "metadata": {},
   "outputs": [
    {
     "name": "stdout",
     "output_type": "stream",
     "text": [
      "+----------+-----+--------------+--------------+--------------------+---------------------+--------------+------------+-----------------+------------------+------------+------------+---------------+-----------------+-------------+-------------+-------------+------------+--------------+-----------------+-------------------+-------------------+----------------+---------------+----------+----------+-----------+--------+-------------+--------------------+------+------+------------+------------------+-----------------+----------+-------+-------------+----------------+--------------------+--------------+-----------+------------+-------------+--------------+-----------------------+----------------+-------------------+-------------------------+-----------+--------------+-------------------------+------------+-----------------------+------------+---------+------------+-------------+----------+-----------------+-----------------------+----------------------+---------------+------------+------------------+---------------------+-------------------------+-------------------+----------------+-----------------+------------------+---------------------+------------------------+-------------------+----------------------------+------------------+\n",
      "|CustomerID|Churn|MonthlyRevenue|MonthlyMinutes|TotalRecurringCharge|DirectorAssistedCalls|OverageMinutes|RoamingCalls|PercChangeMinutes|PercChangeRevenues|DroppedCalls|BlockedCalls|UnansweredCalls|CustomerCareCalls|ThreewayCalls|ReceivedCalls|OutboundCalls|InboundCalls|PeakCallsInOut|OffPeakCallsInOut|DroppedBlockedCalls|CallForwardingCalls|CallWaitingCalls|MonthsInService|UniqueSubs|ActiveSubs|ServiceArea|Handsets|HandsetModels|CurrentEquipmentDays|AgeHH1|AgeHH2|ChildrenInHH|HandsetRefurbished|HandsetWebCapable|TruckOwner|RVOwner|Homeownership|BuysViaMailOrder|RespondsToMailOffers|OptOutMailings|NonUSTravel|OwnsComputer|HasCreditCard|RetentionCalls|RetentionOffersAccepted|NewCellphoneUser|NotNewCellphoneUser|ReferralsMadeBySubscriber|IncomeGroup|OwnsMotorcycle|AdjustmentsToCreditRating|HandsetPrice|MadeCallToRetentionTeam|CreditRating|PrizmCode|  Occupation|MaritalStatus|ChurnIndex|ChildrenInHHIndex|HandsetRefurbishedIndex|HandsetWebCapableIndex|TruckOwnerIndex|RVOwnerIndex|HomeownershipIndex|BuysViaMailOrderIndex|RespondsToMailOffersIndex|OptOutMailingsIndex|NonUSTravelIndex|OwnsComputerIndex|HasCreditCardIndex|NewCellphoneUserIndex|NotNewCellphoneUserIndex|OwnsMotorcycleIndex|MadeCallToRetentionTeamIndex|MaritalStatusIndex|\n",
      "+----------+-----+--------------+--------------+--------------------+---------------------+--------------+------------+-----------------+------------------+------------+------------+---------------+-----------------+-------------+-------------+-------------+------------+--------------+-----------------+-------------------+-------------------+----------------+---------------+----------+----------+-----------+--------+-------------+--------------------+------+------+------------+------------------+-----------------+----------+-------+-------------+----------------+--------------------+--------------+-----------+------------+-------------+--------------+-----------------------+----------------+-------------------+-------------------------+-----------+--------------+-------------------------+------------+-----------------------+------------+---------+------------+-------------+----------+-----------------+-----------------------+----------------------+---------------+------------+------------------+---------------------+-------------------------+-------------------+----------------+-----------------+------------------+---------------------+------------------------+-------------------+----------------------------+------------------+\n",
      "|   3000002|  Yes|            24|           219|                  22|                 0.25|             0|           0|             -157|               -19|         0.7|         0.7|            6.3|              0.0|          0.0|         97.2|          0.0|         0.0|          58.0|             24.0|                1.3|                0.0|             0.3|             61|         2|         1|  SEAPOR503|       2|            2|                 361|    62|     0|          No|                No|              Yes|        No|     No|        Known|             Yes|                 Yes|            No|         No|         Yes|          Yes|             1|                      0|              No|                 No|                        0|          4|            No|                        0|          30|                    Yes|   1-Highest| Suburban|Professional|           No|       1.0|              0.0|                    0.0|                   0.0|            0.0|         0.0|               0.0|                  1.0|                      1.0|                0.0|             0.0|              1.0|               0.0|                  0.0|                     0.0|                0.0|                         1.0|               2.0|\n",
      "|   3000010|  Yes|         16.99|            10|                  17|                    0|             0|           0|               -4|                 0|         0.3|         0.0|            2.7|              0.0|          0.0|          0.0|          0.0|         0.0|           5.0|              1.0|                0.3|                0.0|             0.0|             58|         1|         1|  PITHOM412|       2|            1|                1504|    40|    42|         Yes|                No|               No|        No|     No|        Known|             Yes|                 Yes|            No|         No|         Yes|          Yes|             0|                      0|             Yes|                 No|                        0|          5|            No|                        0|          30|                     No|    4-Medium| Suburban|Professional|          Yes|       1.0|              1.0|                    0.0|                   1.0|            0.0|         0.0|               0.0|                  1.0|                      1.0|                0.0|             0.0|              1.0|               0.0|                  1.0|                     0.0|                0.0|                         0.0|               1.0|\n",
      "|   3000014|   No|            38|             8|                  38|                    0|             0|           0|               -2|                 0|         0.0|         0.0|            0.0|              0.0|          0.0|          0.4|          0.3|         0.0|           1.3|              3.7|                0.0|                0.0|             0.0|             60|         1|         1|  MILMIL414|       1|            1|                1812|    26|    26|         Yes|                No|               No|        No|     No|      Unknown|              No|                  No|            No|         No|          No|          Yes|             0|                      0|             Yes|                 No|                        0|          6|            No|                        0|     Unknown|                     No|      3-Good|     Town|      Crafts|          Yes|       0.0|              1.0|                    0.0|                   1.0|            0.0|         0.0|               1.0|                  0.0|                      0.0|                0.0|             0.0|              0.0|               0.0|                  1.0|                     0.0|                0.0|                         0.0|               1.0|\n",
      "+----------+-----+--------------+--------------+--------------------+---------------------+--------------+------------+-----------------+------------------+------------+------------+---------------+-----------------+-------------+-------------+-------------+------------+--------------+-----------------+-------------------+-------------------+----------------+---------------+----------+----------+-----------+--------+-------------+--------------------+------+------+------------+------------------+-----------------+----------+-------+-------------+----------------+--------------------+--------------+-----------+------------+-------------+--------------+-----------------------+----------------+-------------------+-------------------------+-----------+--------------+-------------------------+------------+-----------------------+------------+---------+------------+-------------+----------+-----------------+-----------------------+----------------------+---------------+------------+------------------+---------------------+-------------------------+-------------------+----------------+-----------------+------------------+---------------------+------------------------+-------------------+----------------------------+------------------+\n",
      "only showing top 3 rows\n",
      "\n"
     ]
    }
   ],
   "source": [
    "df.show(3)"
   ]
  },
  {
   "cell_type": "markdown",
   "metadata": {},
   "source": [
    "#### Drop the original string columns of labels"
   ]
  },
  {
   "cell_type": "code",
   "execution_count": 16,
   "metadata": {},
   "outputs": [],
   "source": [
    "df = df.select([column for column in df.columns if column not in columns_for_indexer])"
   ]
  },
  {
   "cell_type": "code",
   "execution_count": 17,
   "metadata": {},
   "outputs": [
    {
     "name": "stdout",
     "output_type": "stream",
     "text": [
      "+----------+--------------+--------------+--------------------+---------------------+--------------+------------+-----------------+------------------+------------+------------+---------------+-----------------+-------------+-------------+-------------+------------+--------------+-----------------+-------------------+-------------------+----------------+---------------+----------+----------+-----------+--------+-------------+--------------------+------+------+--------------+-----------------------+-------------------------+-----------+-------------------------+------------+------------+---------+------------+----------+-----------------+-----------------------+----------------------+---------------+------------+------------------+---------------------+-------------------------+-------------------+----------------+-----------------+------------------+---------------------+------------------------+-------------------+----------------------------+------------------+\n",
      "|CustomerID|MonthlyRevenue|MonthlyMinutes|TotalRecurringCharge|DirectorAssistedCalls|OverageMinutes|RoamingCalls|PercChangeMinutes|PercChangeRevenues|DroppedCalls|BlockedCalls|UnansweredCalls|CustomerCareCalls|ThreewayCalls|ReceivedCalls|OutboundCalls|InboundCalls|PeakCallsInOut|OffPeakCallsInOut|DroppedBlockedCalls|CallForwardingCalls|CallWaitingCalls|MonthsInService|UniqueSubs|ActiveSubs|ServiceArea|Handsets|HandsetModels|CurrentEquipmentDays|AgeHH1|AgeHH2|RetentionCalls|RetentionOffersAccepted|ReferralsMadeBySubscriber|IncomeGroup|AdjustmentsToCreditRating|HandsetPrice|CreditRating|PrizmCode|  Occupation|ChurnIndex|ChildrenInHHIndex|HandsetRefurbishedIndex|HandsetWebCapableIndex|TruckOwnerIndex|RVOwnerIndex|HomeownershipIndex|BuysViaMailOrderIndex|RespondsToMailOffersIndex|OptOutMailingsIndex|NonUSTravelIndex|OwnsComputerIndex|HasCreditCardIndex|NewCellphoneUserIndex|NotNewCellphoneUserIndex|OwnsMotorcycleIndex|MadeCallToRetentionTeamIndex|MaritalStatusIndex|\n",
      "+----------+--------------+--------------+--------------------+---------------------+--------------+------------+-----------------+------------------+------------+------------+---------------+-----------------+-------------+-------------+-------------+------------+--------------+-----------------+-------------------+-------------------+----------------+---------------+----------+----------+-----------+--------+-------------+--------------------+------+------+--------------+-----------------------+-------------------------+-----------+-------------------------+------------+------------+---------+------------+----------+-----------------+-----------------------+----------------------+---------------+------------+------------------+---------------------+-------------------------+-------------------+----------------+-----------------+------------------+---------------------+------------------------+-------------------+----------------------------+------------------+\n",
      "|   3000002|            24|           219|                  22|                 0.25|             0|           0|             -157|               -19|         0.7|         0.7|            6.3|              0.0|          0.0|         97.2|          0.0|         0.0|          58.0|             24.0|                1.3|                0.0|             0.3|             61|         2|         1|  SEAPOR503|       2|            2|                 361|    62|     0|             1|                      0|                        0|          4|                        0|          30|   1-Highest| Suburban|Professional|       1.0|              0.0|                    0.0|                   0.0|            0.0|         0.0|               0.0|                  1.0|                      1.0|                0.0|             0.0|              1.0|               0.0|                  0.0|                     0.0|                0.0|                         1.0|               2.0|\n",
      "|   3000010|         16.99|            10|                  17|                    0|             0|           0|               -4|                 0|         0.3|         0.0|            2.7|              0.0|          0.0|          0.0|          0.0|         0.0|           5.0|              1.0|                0.3|                0.0|             0.0|             58|         1|         1|  PITHOM412|       2|            1|                1504|    40|    42|             0|                      0|                        0|          5|                        0|          30|    4-Medium| Suburban|Professional|       1.0|              1.0|                    0.0|                   1.0|            0.0|         0.0|               0.0|                  1.0|                      1.0|                0.0|             0.0|              1.0|               0.0|                  1.0|                     0.0|                0.0|                         0.0|               1.0|\n",
      "|   3000014|            38|             8|                  38|                    0|             0|           0|               -2|                 0|         0.0|         0.0|            0.0|              0.0|          0.0|          0.4|          0.3|         0.0|           1.3|              3.7|                0.0|                0.0|             0.0|             60|         1|         1|  MILMIL414|       1|            1|                1812|    26|    26|             0|                      0|                        0|          6|                        0|     Unknown|      3-Good|     Town|      Crafts|       0.0|              1.0|                    0.0|                   1.0|            0.0|         0.0|               1.0|                  0.0|                      0.0|                0.0|             0.0|              0.0|               0.0|                  1.0|                     0.0|                0.0|                         0.0|               1.0|\n",
      "+----------+--------------+--------------+--------------------+---------------------+--------------+------------+-----------------+------------------+------------+------------+---------------+-----------------+-------------+-------------+-------------+------------+--------------+-----------------+-------------------+-------------------+----------------+---------------+----------+----------+-----------+--------+-------------+--------------------+------+------+--------------+-----------------------+-------------------------+-----------+-------------------------+------------+------------+---------+------------+----------+-----------------+-----------------------+----------------------+---------------+------------+------------------+---------------------+-------------------------+-------------------+----------------+-----------------+------------------+---------------------+------------------------+-------------------+----------------------------+------------------+\n",
      "only showing top 3 rows\n",
      "\n"
     ]
    }
   ],
   "source": [
    "df.show(3)"
   ]
  },
  {
   "cell_type": "code",
   "execution_count": 18,
   "metadata": {},
   "outputs": [
    {
     "name": "stderr",
     "output_type": "stream",
     "text": [
      "[Stage 68:==============>                                           (1 + 3) / 4]\r"
     ]
    },
    {
     "name": "stdout",
     "output_type": "stream",
     "text": [
      "+-------+-------------------+\n",
      "|summary|         ChurnIndex|\n",
      "+-------+-------------------+\n",
      "|  count|              49752|\n",
      "|   mean|0.28632014793375143|\n",
      "| stddev|0.45204538278095574|\n",
      "|    min|                0.0|\n",
      "|    max|                1.0|\n",
      "+-------+-------------------+\n",
      "\n"
     ]
    },
    {
     "name": "stderr",
     "output_type": "stream",
     "text": [
      "                                                                                \r"
     ]
    }
   ],
   "source": [
    "# Check the Churn column again to confirm the result\n",
    "df.select(\"ChurnIndex\").describe().show()"
   ]
  },
  {
   "cell_type": "code",
   "execution_count": 19,
   "metadata": {},
   "outputs": [],
   "source": [
    "# Replace unknown values to 0 for HandsetPrice Column\n",
    "df = df.replace(to_replace={\"Unknown\": \"0\"}, subset=[\"HandsetPrice\"])"
   ]
  },
  {
   "cell_type": "code",
   "execution_count": 20,
   "metadata": {},
   "outputs": [],
   "source": [
    "# Delete the rows with 'NA' values\n",
    "for column in df.columns:\n",
    "    if df.schema[column].dataType == pyspark.sql.types.StringType():\n",
    "        df = df.filter(df[column] != \"Unknown\")"
   ]
  },
  {
   "cell_type": "code",
   "execution_count": 21,
   "metadata": {},
   "outputs": [
    {
     "data": {
      "text/plain": [
       "['MonthlyRevenue',\n",
       " 'MonthlyMinutes',\n",
       " 'TotalRecurringCharge',\n",
       " 'DirectorAssistedCalls',\n",
       " 'OverageMinutes',\n",
       " 'RoamingCalls',\n",
       " 'PercChangeMinutes',\n",
       " 'PercChangeRevenues',\n",
       " 'ServiceArea',\n",
       " 'Handsets',\n",
       " 'HandsetModels',\n",
       " 'CurrentEquipmentDays',\n",
       " 'AgeHH1',\n",
       " 'AgeHH2',\n",
       " 'HandsetPrice',\n",
       " 'CreditRating',\n",
       " 'PrizmCode',\n",
       " 'Occupation']"
      ]
     },
     "execution_count": 21,
     "metadata": {},
     "output_type": "execute_result"
    }
   ],
   "source": [
    "# Another Iteration for feature engineering\n",
    "columns_string = [\n",
    "    column\n",
    "    for column in df.columns\n",
    "    if df.schema[column].dataType == pyspark.sql.types.StringType()\n",
    "]\n",
    "columns_string"
   ]
  },
  {
   "cell_type": "code",
   "execution_count": 22,
   "metadata": {},
   "outputs": [],
   "source": [
    "# Mapping string values into integer based on its values\n",
    "mapping_PrizmCode = {\"Other\": \"0\", \"Suburban\": \"1\", \"Town\": \"2\", \"Rural\": \"3\"}\n",
    "df = df.replace(to_replace = mapping_PrizmCode, subset=[\"PrizmCode\"])"
   ]
  },
  {
   "cell_type": "markdown",
   "metadata": {},
   "source": [
    "### Find and cast columns to `Float`"
   ]
  },
  {
   "cell_type": "markdown",
   "metadata": {},
   "source": [
    "#### Prepare the list of columns to be transformed into float"
   ]
  },
  {
   "cell_type": "code",
   "execution_count": 23,
   "metadata": {},
   "outputs": [],
   "source": [
    "columns_to_float = [\n",
    "    \"MonthlyRevenue\",\n",
    "    \"MonthlyMinutes\",\n",
    "    \"TotalRecurringCharge\",\n",
    "    \"DirectorAssistedCalls\",\n",
    "    \"OverageMinutes\",\n",
    "    \"RoamingCalls\",\n",
    "    \"PercChangeMinutes\",\n",
    "    \"PercChangeRevenues\",\n",
    "]"
   ]
  },
  {
   "cell_type": "markdown",
   "metadata": {},
   "source": [
    "#### Transform ServiceArea and CreditRating columns only to keep the int value"
   ]
  },
  {
   "cell_type": "code",
   "execution_count": 24,
   "metadata": {},
   "outputs": [],
   "source": [
    "df = df.withColumn(\"ServiceArea\", df[\"ServiceArea\"].substr(-3, 3))\n",
    "df = df.withColumn(\"CreditRating\", df[\"CreditRating\"].substr(1, 1))"
   ]
  },
  {
   "cell_type": "code",
   "execution_count": 25,
   "metadata": {},
   "outputs": [],
   "source": [
    "# Transform the type of columns to float\n",
    "for column in columns_to_float:\n",
    "    df = df.withColumn(column, df[column].cast(\"float\"))"
   ]
  },
  {
   "cell_type": "code",
   "execution_count": 26,
   "metadata": {},
   "outputs": [
    {
     "name": "stderr",
     "output_type": "stream",
     "text": [
      "                                                                                \r"
     ]
    }
   ],
   "source": [
    "# Create a Pandas DataFrame for data visualization\n",
    "df_pd = df.toPandas()"
   ]
  },
  {
   "cell_type": "code",
   "execution_count": 27,
   "metadata": {},
   "outputs": [
    {
     "name": "stdout",
     "output_type": "stream",
     "text": [
      "{'Other': '0', 'Self': '1', 'Student': '2', 'Crafts': '3', 'Clerical': '4', 'Professional': '5', 'Homemaker': '6', 'Retired': '7'}\n"
     ]
    }
   ],
   "source": [
    "# Transform string values to numbers using mapping\n",
    "temp = (\n",
    "    df_pd.loc[:, [\"Occupation\", \"MonthlyRevenue\"]]\n",
    "    .groupby(\"Occupation\")\n",
    "    .mean()\n",
    "    .sort_values([\"MonthlyRevenue\"], ascending=[0])\n",
    ")\n",
    "\n",
    "mapping_Occupation = dict([temp.index[i], str(i)] for i in range(len(temp)))\n",
    "print(mapping_Occupation)\n",
    "\n",
    "df = df.replace(to_replace=mapping_Occupation, subset=[\"Occupation\"])"
   ]
  },
  {
   "cell_type": "markdown",
   "metadata": {},
   "source": [
    "### Find and Cast columns to `integers`"
   ]
  },
  {
   "cell_type": "markdown",
   "metadata": {},
   "source": [
    "#### Prepare the list of columns to be transformed into integer"
   ]
  },
  {
   "cell_type": "code",
   "execution_count": 28,
   "metadata": {},
   "outputs": [],
   "source": [
    "columns_to_int = [\"Handsets\",\"HandsetModels\",\"CurrentEquipmentDays\",\"AgeHH1\",\"AgeHH2\",\n",
    "                  \"HandsetPrice\",\"ServiceArea\",\"CreditRating\",\"PrizmCode\",\"Occupation\",\"ChurnIndex\",\"ChildrenInHHIndex\",\n",
    "                  \"HandsetRefurbishedIndex\",\"HandsetWebCapableIndex\",\"TruckOwnerIndex\",\"RVOwnerIndex\",\"HomeownershipIndex\",\n",
    "                  \"BuysViaMailOrderIndex\",\"RespondsToMailOffersIndex\",\"OptOutMailingsIndex\",\"NonUSTravelIndex\",\"OwnsComputerIndex\",\n",
    "                  \"HasCreditCardIndex\",\"NewCellphoneUserIndex\",\"NotNewCellphoneUserIndex\",\"OwnsMotorcycleIndex\",\n",
    "                  \"MadeCallToRetentionTeamIndex\",\"MaritalStatusIndex\",\n",
    "                  ]"
   ]
  },
  {
   "cell_type": "markdown",
   "metadata": {},
   "source": [
    "#### Transform the type of columns to integer"
   ]
  },
  {
   "cell_type": "code",
   "execution_count": 29,
   "metadata": {},
   "outputs": [],
   "source": [
    "for column in columns_to_int:\n",
    "    df = df.withColumn(column, df[column].cast(\"int\"))"
   ]
  },
  {
   "cell_type": "markdown",
   "metadata": {},
   "source": [
    "## Data Visulization"
   ]
  },
  {
   "cell_type": "markdown",
   "metadata": {},
   "source": [
    "From a business perspective, we can select below columns to visulaize and understand the data"
   ]
  },
  {
   "cell_type": "markdown",
   "metadata": {},
   "source": [
    "-\tCustomer demography: Age, Tenure, Gender, Location, Zip code, etc.\n",
    "-\tBill and payment: Monthly fee, Billing amount, Count of overdue payment, payment method, Billing type, etc.\n",
    "-\tNetwork/TV/Phone usage records: Network use frequency, network flow, usage time and period, internet average speed, In-net call duration, Call type, etc.\n",
    "-\tCustomer care/service: Service call number, service type, service duration, account change count\n",
    "-\tCompetitors information: Offer detail under similar plan, etc\n"
   ]
  },
  {
   "cell_type": "code",
   "execution_count": 30,
   "metadata": {},
   "outputs": [
    {
     "name": "stderr",
     "output_type": "stream",
     "text": [
      "                                                                                \r"
     ]
    }
   ],
   "source": [
    "# Create a new Pandas DataFrame for data visualization\n",
    "df_pd = df.toPandas()"
   ]
  },
  {
   "cell_type": "code",
   "execution_count": 31,
   "metadata": {},
   "outputs": [],
   "source": [
    "# Define Catplot function and Barplot function\n",
    "def cat_plot(feature, cut=12):\n",
    "    temp = df_pd.loc[:, [feature, \"ChurnIndex\"]]\n",
    "    temp[feature + \"_binned\"] = pd.qcut(temp[feature], cut, duplicates=\"drop\")\n",
    "    ax = sns.catplot(\n",
    "        x=\"ChurnIndex\",\n",
    "        y=feature + \"_binned\",\n",
    "        data=temp,\n",
    "        kind=\"bar\",\n",
    "        height=5,\n",
    "        aspect=2.7,\n",
    "    )\n",
    "\n",
    "\n",
    "def bar_plot(feature, cut=False, logscale=False, drop_zero=False):\n",
    "    if drop_zero:\n",
    "        temp = df_pd[df_pd[feature] != 0].loc[:, [feature, \"ChurnIndex\"]]\n",
    "    else:\n",
    "        temp = df_pd.loc[:, [feature, \"ChurnIndex\"]]\n",
    "\n",
    "    if cut > 0:\n",
    "        temp[feature + \"_binned\"] = pd.qcut(temp[feature], cut, duplicates=\"drop\")\n",
    "        ax = sns.barplot(x=feature + \"_binned\", y=\"ChurnIndex\", data=temp)\n",
    "    else:\n",
    "        ax = sns.barplot(x=feature, y=\"ChurnIndex\", data=temp)\n",
    "\n",
    "    if logscale:\n",
    "        ax.set_yscale(\"log\")"
   ]
  },
  {
   "cell_type": "code",
   "execution_count": 32,
   "metadata": {},
   "outputs": [
    {
     "data": {
      "image/png": "[encoded data removed]",
      "text/plain": [
       "<Figure size 972x360 with 1 Axes>"
      ]
     },
     "metadata": {
      "needs_background": "light"
     },
     "output_type": "display_data"
    }
   ],
   "source": [
    "# Use defined Catplot function plot the distribution of MonthsInService\n",
    "cat_plot(\"MonthsInService\", cut=12)"
   ]
  },
  {
   "cell_type": "code",
   "execution_count": 33,
   "metadata": {},
   "outputs": [
    {
     "data": {
      "image/png": "[encoded data removed]",
      "text/plain": [
       "<Figure size 432x288 with 1 Axes>"
      ]
     },
     "metadata": {
      "needs_background": "light"
     },
     "output_type": "display_data"
    }
   ],
   "source": [
    "# Use defined Barplot function plot the distribution of MonthlyMinutes\n",
    "bar_plot(\"MonthlyMinutes\", cut=5, logscale=True, drop_zero=True)\n"
   ]
  },
  {
   "cell_type": "code",
   "execution_count": 34,
   "metadata": {},
   "outputs": [
    {
     "data": {
      "image/png": "[encoded data removed]",
      "text/plain": [
       "<Figure size 432x288 with 1 Axes>"
      ]
     },
     "metadata": {
      "needs_background": "light"
     },
     "output_type": "display_data"
    }
   ],
   "source": [
    "# Use defined Barplot function plot the distribution of OverageMinutes\n",
    "bar_plot(\"OverageMinutes\", cut=7, logscale=True, drop_zero=True)"
   ]
  },
  {
   "cell_type": "code",
   "execution_count": 35,
   "metadata": {},
   "outputs": [
    {
     "data": {
      "image/png": "[encoded data removed]",
      "text/plain": [
       "<Figure size 432x288 with 1 Axes>"
      ]
     },
     "metadata": {
      "needs_background": "light"
     },
     "output_type": "display_data"
    }
   ],
   "source": [
    "# Use defined Barplot function plot the distribution of CreditRating\n",
    "bar_plot(\"CreditRating\", cut=5, logscale=True)"
   ]
  },
  {
   "cell_type": "code",
   "execution_count": 36,
   "metadata": {},
   "outputs": [
    {
     "data": {
      "image/png": "[encoded data removed]",
      "text/plain": [
       "<Figure size 432x288 with 1 Axes>"
      ]
     },
     "metadata": {
      "needs_background": "light"
     },
     "output_type": "display_data"
    }
   ],
   "source": [
    "# Use defined Barplot function plot the distribution of AgeHH1\n",
    "bar_plot(\"AgeHH1\", cut=6, logscale=True, drop_zero=True)"
   ]
  },
  {
   "cell_type": "code",
   "execution_count": 37,
   "metadata": {},
   "outputs": [
    {
     "data": {
      "text/plain": [
       "<AxesSubplot:xlabel='MadeCallToRetentionTeam', ylabel='ChurnIndex'>"
      ]
     },
     "execution_count": 37,
     "metadata": {},
     "output_type": "execute_result"
    },
    {
     "data": {
      "image/png": "[encoded data removed]",
      "text/plain": [
       "<Figure size 720x360 with 3 Axes>"
      ]
     },
     "metadata": {
      "needs_background": "light"
     },
     "output_type": "display_data"
    }
   ],
   "source": [
    "# Subplots the distribution of HandsetRefurbished, HandsetWebCapable and MadeCallToRetentionTeam into one graph\n",
    "feature = [\n",
    "    \"HandsetRefurbishedIndex\",\n",
    "    \"HandsetWebCapableIndex\",\n",
    "    \"MadeCallToRetentionTeamIndex\",\n",
    "    \"ChurnIndex\",\n",
    "]\n",
    "temp = df_pd.loc[:, feature]\n",
    "temp.columns = [\n",
    "    \"HandsetRefurbished\",\n",
    "    \"HandsetWebCapable\",\n",
    "    \"MadeCallToRetentionTeam\",\n",
    "    \"ChurnIndex\",\n",
    "]\n",
    "\n",
    "fig, axs = plt.subplots(figsize=(10, 5), ncols=3)\n",
    "sns.barplot(x=\"HandsetRefurbished\", y=\"ChurnIndex\", data=temp, ax=axs[0])\n",
    "sns.barplot(x=\"HandsetWebCapable\", y=\"ChurnIndex\", data=temp, ax=axs[1])\n",
    "sns.barplot(x=\"MadeCallToRetentionTeam\", y=\"ChurnIndex\", data=temp, ax=axs[2])\n"
   ]
  },
  {
   "cell_type": "markdown",
   "metadata": {},
   "source": [
    "#### Function to Plot ROC curve"
   ]
  },
  {
   "cell_type": "code",
   "execution_count": 61,
   "metadata": {},
   "outputs": [],
   "source": [
    "# Define plot roc curve function\n",
    "def plot_roc_curve(model, train, test):\n",
    "    predictions = model.transform(test)\n",
    "    predictions_train = model.transform(train)\n",
    "\n",
    "    results = predictions.select([\"probability\", \"label\"])\n",
    "    results_train = predictions_train.select([\"probability\", \"label\"])\n",
    "\n",
    "    ## prepare score-label set\n",
    "    results_collect = results.collect()\n",
    "    results_list = [(float(i[0][0]), 1.0 - float(i[1])) for i in results_collect]\n",
    "\n",
    "    results_collect_train = results_train.collect()\n",
    "    results_list_train = [\n",
    "        (float(i[0][0]), 1.0 - float(i[1])) for i in results_collect_train\n",
    "    ]\n",
    "\n",
    "    fpr = dict()\n",
    "    fpr_train = dict()\n",
    "    tpr = dict()\n",
    "    tpr_train = dict()\n",
    "    roc_auc = dict()\n",
    "    roc_auc_train = dict()\n",
    "\n",
    "    y_test = [i[1] for i in results_list]\n",
    "    y_score = [i[0] for i in results_list]\n",
    "\n",
    "    y_train = [i[1] for i in results_list_train]\n",
    "    y_score_train = [i[0] for i in results_list_train]\n",
    "\n",
    "    fpr, tpr, _ = roc_curve(y_test, y_score)\n",
    "    roc_auc = auc(fpr, tpr)\n",
    "\n",
    "    fpr_train, tpr_train, _ = roc_curve(y_train, y_score_train)\n",
    "    roc_auc_train = auc(fpr_train, tpr_train)\n",
    "\n",
    "    plt.figure()\n",
    "    plt.plot(fpr, tpr, label=\"ROC curve on testing set (area = %0.2f)\" % roc_auc)\n",
    "    plt.plot(\n",
    "        fpr_train,\n",
    "        tpr_train,\n",
    "        label=\"ROC curve on training set (area = %0.2f)\" % roc_auc_train,\n",
    "    )\n",
    "    plt.plot([0, 1], [0, 1], \"k--\")\n",
    "    plt.xlim([0.0, 1.0])\n",
    "    plt.ylim([0.0, 1.05])\n",
    "    plt.xlabel(\"False Positive Rate\")\n",
    "    plt.ylabel(\"True Positive Rate\")\n",
    "    plt.title(\"Receiver operating characteristic example\")\n",
    "    plt.legend(loc=\"lower right\")\n",
    "    plt.show()\n"
   ]
  },
  {
   "cell_type": "markdown",
   "metadata": {},
   "source": [
    "## Data Preprocessing"
   ]
  },
  {
   "cell_type": "markdown",
   "metadata": {},
   "source": [
    "#### Create column list for VectorAssembler and trandform it into single vevtor column"
   ]
  },
  {
   "cell_type": "code",
   "execution_count": 38,
   "metadata": {},
   "outputs": [],
   "source": [
    "inputcols = [\n",
    "    column for column in df.columns if column not in [\"CustomerID\", \"ChurnIndex\"]\n",
    "]"
   ]
  },
  {
   "cell_type": "code",
   "execution_count": 39,
   "metadata": {},
   "outputs": [],
   "source": [
    "vectorAssembler = VectorAssembler(inputCols=inputcols, outputCol=\"features\")\n",
    "features_vectorized = vectorAssembler.transform(df)\n",
    "features_vectorized = features_vectorized.withColumnRenamed(\"ChurnIndex\", \"label\")"
   ]
  },
  {
   "cell_type": "markdown",
   "metadata": {},
   "source": [
    "#### StandardScaler"
   ]
  },
  {
   "cell_type": "code",
   "execution_count": 40,
   "metadata": {},
   "outputs": [
    {
     "name": "stderr",
     "output_type": "stream",
     "text": [
      "                                                                                \r"
     ]
    },
    {
     "name": "stdout",
     "output_type": "stream",
     "text": [
      "+----------+--------------+--------------+--------------------+---------------------+--------------+------------+-----------------+------------------+------------+------------+---------------+-----------------+-------------+-------------+-------------+------------+--------------+-----------------+-------------------+-------------------+----------------+---------------+----------+----------+-----------+--------+-------------+--------------------+------+------+--------------+-----------------------+-------------------------+-----------+-------------------------+------------+------------+---------+----------+-----+-----------------+-----------------------+----------------------+---------------+------------+------------------+---------------------+-------------------------+-------------------+----------------+-----------------+------------------+---------------------+------------------------+-------------------+----------------------------+------------------+--------------------+--------------------+\n",
      "|CustomerID|MonthlyRevenue|MonthlyMinutes|TotalRecurringCharge|DirectorAssistedCalls|OverageMinutes|RoamingCalls|PercChangeMinutes|PercChangeRevenues|DroppedCalls|BlockedCalls|UnansweredCalls|CustomerCareCalls|ThreewayCalls|ReceivedCalls|OutboundCalls|InboundCalls|PeakCallsInOut|OffPeakCallsInOut|DroppedBlockedCalls|CallForwardingCalls|CallWaitingCalls|MonthsInService|UniqueSubs|ActiveSubs|ServiceArea|Handsets|HandsetModels|CurrentEquipmentDays|AgeHH1|AgeHH2|RetentionCalls|RetentionOffersAccepted|ReferralsMadeBySubscriber|IncomeGroup|AdjustmentsToCreditRating|HandsetPrice|CreditRating|PrizmCode|Occupation|label|ChildrenInHHIndex|HandsetRefurbishedIndex|HandsetWebCapableIndex|TruckOwnerIndex|RVOwnerIndex|HomeownershipIndex|BuysViaMailOrderIndex|RespondsToMailOffersIndex|OptOutMailingsIndex|NonUSTravelIndex|OwnsComputerIndex|HasCreditCardIndex|NewCellphoneUserIndex|NotNewCellphoneUserIndex|OwnsMotorcycleIndex|MadeCallToRetentionTeamIndex|MaritalStatusIndex|            features|      scaledFeatures|\n",
      "+----------+--------------+--------------+--------------------+---------------------+--------------+------------+-----------------+------------------+------------+------------+---------------+-----------------+-------------+-------------+-------------+------------+--------------+-----------------+-------------------+-------------------+----------------+---------------+----------+----------+-----------+--------+-------------+--------------------+------+------+--------------+-----------------------+-------------------------+-----------+-------------------------+------------+------------+---------+----------+-----+-----------------+-----------------------+----------------------+---------------+------------+------------------+---------------------+-------------------------+-------------------+----------------+-----------------+------------------+---------------------+------------------------+-------------------+----------------------------+------------------+--------------------+--------------------+\n",
      "|   3000002|          24.0|         219.0|                22.0|                 0.25|           0.0|         0.0|           -157.0|             -19.0|         0.7|         0.7|            6.3|              0.0|          0.0|         97.2|          0.0|         0.0|          58.0|             24.0|                1.3|                0.0|             0.3|             61|         2|         1|        503|       2|            2|                 361|    62|     0|             1|                      0|                        0|          4|                        0|          30|           1|        1|         5|    1|                0|                      0|                     0|              0|           0|                 0|                    1|                        1|                  0|               0|                1|                 0|                    0|                       0|                  0|                           1|                 2|(56,[0,1,2,3,6,7,...|(56,[0,1,2,3,6,7,...|\n",
      "|   3000010|         16.99|          10.0|                17.0|                  0.0|           0.0|         0.0|             -4.0|               0.0|         0.3|         0.0|            2.7|              0.0|          0.0|          0.0|          0.0|         0.0|           5.0|              1.0|                0.3|                0.0|             0.0|             58|         1|         1|        412|       2|            1|                1504|    40|    42|             0|                      0|                        0|          5|                        0|          30|           4|        1|         5|    1|                1|                      0|                     1|              0|           0|                 0|                    1|                        1|                  0|               0|                1|                 0|                    1|                       0|                  0|                           0|                 1|(56,[0,1,2,6,8,10...|(56,[0,1,2,6,8,10...|\n",
      "|   3000014|          38.0|           8.0|                38.0|                  0.0|           0.0|         0.0|             -2.0|               0.0|         0.0|         0.0|            0.0|              0.0|          0.0|          0.4|          0.3|         0.0|           1.3|              3.7|                0.0|                0.0|             0.0|             60|         1|         1|        414|       1|            1|                1812|    26|    26|             0|                      0|                        0|          6|                        0|           0|           3|        2|         3|    0|                1|                      0|                     1|              0|           0|                 1|                    0|                        0|                  0|               0|                0|                 0|                    1|                       0|                  0|                           0|                 1|(56,[0,1,2,6,13,1...|(56,[0,1,2,6,13,1...|\n",
      "|   3000022|         82.28|        1312.0|                75.0|                 1.24|           0.0|         0.0|            157.0|               8.1|        52.0|         7.7|           76.0|              4.3|          1.3|        200.3|        370.3|       147.0|         555.7|            303.7|               59.7|                0.0|            22.7|             59|         2|         2|        412|       9|            4|                 458|    30|     0|             0|                      0|                        0|          6|                        0|          10|           4|        0|         0|    0|                0|                      0|                     0|              0|           0|                 0|                    1|                        1|                  0|               0|                0|                 0|                    1|                       0|                  0|                           0|                 2|(56,[0,1,2,3,6,7,...|(56,[0,1,2,3,6,7,...|\n",
      "|   3000026|         17.14|           0.0|                17.0|                  0.0|           0.0|         0.0|              0.0|              -0.2|         0.0|         0.0|            0.0|              0.0|          0.0|          0.0|          0.0|         0.0|           0.0|              0.0|                0.0|                0.0|             0.0|             53|         2|         2|        918|       4|            3|                 852|    46|    54|             0|                      0|                        0|          9|                        1|          10|           1|        0|         5|    1|                0|                      0|                     1|              0|           0|                 0|                    1|                        1|                  0|               0|                1|                 0|                    0|                       1|                  0|                           0|                 1|(56,[0,2,7,21,22,...|(56,[0,2,7,21,22,...|\n",
      "|   3000030|         38.05|         682.0|                52.0|                 0.25|           0.0|         0.0|            148.0|              -3.1|         9.0|         1.7|           13.0|              0.7|          0.0|         42.2|          6.7|         0.0|          33.3|             53.0|               10.7|                0.0|             0.7|             53|         1|         1|        918|       3|            2|                 231|    28|     0|             0|                      0|                        0|          1|                        1|          30|           3|        0|         0|    0|                0|                      0|                     0|              0|           0|                 0|                    0|                        0|                  0|               1|                0|                 0|                    1|                       0|                  0|                           0|                 1|(56,[0,1,2,3,6,7,...|(56,[0,1,2,3,6,7,...|\n",
      "|   3000038|         31.66|          26.0|                30.0|                 0.25|           0.0|         0.0|             60.0|               4.0|         0.0|         1.0|            2.3|              0.0|          0.0|          0.0|          0.0|         0.0|           1.7|              1.7|                1.0|                0.0|             0.0|             57|         2|         2|        918|       2|            2|                 601|    52|    58|             0|                      0|                        0|          9|                        1|          30|           1|        0|         1|    0|                0|                      0|                     0|              0|           0|                 0|                    1|                        1|                  0|               1|                0|                 0|                    0|                       1|                  0|                           0|                 1|(56,[0,1,2,3,6,7,...|(56,[0,1,2,3,6,7,...|\n",
      "|   3000042|         62.13|          98.0|                66.0|                 2.48|           0.0|         0.0|             24.0|               6.8|         0.0|         0.3|            4.0|              4.0|          0.0|          0.0|          3.7|         0.0|           7.7|              7.3|                0.3|                0.0|             0.0|             59|         2|         2|        405|       3|            3|                 464|    46|    46|             0|                      0|                        0|          6|                        0|          30|           1|        0|         5|    0|                1|                      0|                     0|              0|           0|                 0|                    1|                        1|                  0|               0|                0|                 0|                    1|                       0|                  0|                           0|                 2|(56,[0,1,2,3,6,7,...|(56,[0,1,2,3,6,7,...|\n",
      "|   3000046|          35.3|          24.0|                35.0|                  0.0|           0.0|         0.0|             20.0|              -0.3|         0.0|         0.0|            1.0|              0.0|          0.0|          2.4|          4.0|         1.7|           9.3|              1.7|                0.0|                0.0|             0.0|             53|         3|         3|        210|       4|            3|                 544|    36|    34|             0|                      0|                        0|          9|                        0|          80|           1|        0|         0|    0|                1|                      0|                     0|              0|           0|                 0|                    0|                        0|                  0|               0|                0|                 0|                    1|                       0|                  0|                           0|                 1|(56,[0,1,2,6,7,10...|(56,[0,1,2,6,7,10...|\n",
      "|   3000050|          81.0|        1056.0|                75.0|                  0.0|           0.0|         0.0|             43.0|               2.4|         0.0|         0.0|            0.0|              0.0|          0.0|          0.0|          0.0|         0.0|           0.0|              0.0|                0.0|                0.0|             0.0|             55|         1|         1|        412|       9|            5|                 388|    46|    68|             0|                      0|                        0|          5|                        1|          30|           3|        0|         5|    0|                0|                      0|                     0|              0|           0|                 0|                    0|                        0|                  0|               0|                1|                 0|                    1|                       0|                  0|                           0|                 2|(56,[0,1,2,6,7,21...|(56,[0,1,2,6,7,21...|\n",
      "|   3000054|         25.23|           2.0|                25.0|                  0.0|           0.0|         0.0|             -2.0|              -0.2|         0.0|         0.0|            0.3|              0.0|          0.0|          1.1|          0.3|         0.0|           0.7|              0.7|                0.0|                0.0|             0.0|             53|         2|         2|        210|       2|            2|                 354|     0|     0|             0|                      0|                        0|          7|                        0|          30|           1|        0|         0|    0|                0|                      0|                     0|              1|           0|                 1|                    0|                        0|                  0|               0|                0|                 1|                    1|                       0|                  0|                           0|                 0|(56,[0,1,2,6,7,10...|(56,[0,1,2,6,7,10...|\n",
      "|   3000058|        212.51|        1972.0|                85.0|                 2.23|         250.0|        35.5|           -200.0|            -106.8|         9.0|         0.0|           43.7|              0.3|          0.0|        718.1|         49.3|         4.7|         351.7|            128.7|                9.0|                0.0|             1.0|             59|         5|         1|        801|      10|            6|                 199|    30|    22|             0|                      0|                        0|          3|                        1|          80|           4|        1|         0|    0|                1|                      0|                     0|              0|           0|                 0|                    0|                        1|                  0|               0|                1|                 0|                    1|                       0|                  0|                           0|                 2|[212.509994506835...|[4.79519880689114...|\n",
      "|   3000062|         42.56|         270.0|                37.0|                 0.25|           6.0|         0.0|            202.0|              -1.8|         3.3|         1.7|            7.7|              1.0|          0.0|         57.1|         11.0|         3.7|          62.3|             18.0|                5.0|                0.0|             0.3|             55|         2|         2|        405|       5|            4|                 697|    58|    58|             0|                      0|                        0|          1|                        1|          30|           3|        1|         0|    0|                1|                      0|                     0|              0|           0|                 0|                    0|                        0|                  0|               0|                0|                 0|                    0|                       1|                  0|                           0|                 0|(56,[0,1,2,3,4,6,...|(56,[0,1,2,3,4,6,...|\n",
      "|   3000066|         63.02|         440.0|                60.0|                  0.0|           6.0|         1.3|            -16.0|               0.2|         5.0|         0.0|           17.3|              3.7|          0.3|         93.9|          0.0|         0.0|         141.3|             14.3|                5.0|                0.0|             1.7|             57|         1|         1|        801|       3|            2|                 530|    99|     0|             0|                      0|                        0|          3|                        0|          30|           3|        2|         0|    0|                0|                      0|                     0|              0|           0|                 0|                    1|                        1|                  0|               0|                0|                 0|                    0|                       1|                  0|                           0|                 0|(56,[0,1,2,4,5,6,...|(56,[0,1,2,4,5,6,...|\n",
      "|   3000078|         50.97|         162.0|                70.0|                  0.0|           2.0|         0.0|            -58.0|              -1.0|         1.7|         0.3|            9.0|              0.3|          0.0|         38.4|         34.3|         5.7|          19.3|             42.3|                2.0|                0.0|             0.0|             56|         1|         1|        414|       4|            3|                 253|    30|    30|             0|                      0|                        0|          1|                        0|          10|           3|        0|         0|    0|                1|                      0|                     0|              0|           0|                 0|                    1|                        1|                  0|               0|                1|                 1|                    1|                       0|                  0|                           0|                 2|(56,[0,1,2,4,6,7,...|(56,[0,1,2,4,6,7,...|\n",
      "|   3000082|        172.44|        1978.0|               100.0|                  0.0|         362.0|         0.0|          -1007.0|             -72.5|         7.3|        18.0|          114.3|              0.3|          0.7|        515.2|         22.7|         2.7|         718.0|             60.3|               25.3|                0.0|            20.3|             58|         2|         1|        502|       4|            3|                 143|    48|    32|             1|                      0|                        0|          6|                        0|         150|           1|        0|         5|    1|                0|                      0|                     0|              1|           1|                 0|                    1|                        1|                  0|               0|                0|                 0|                    0|                       0|                  0|                           1|                 0|[172.440002441406...|[3.89103625872400...|\n",
      "|   3000102|         29.99|          47.0|                30.0|                  0.0|           0.0|         0.0|             14.0|               0.0|         0.3|         0.0|            2.3|              0.0|          0.0|          1.0|         10.0|         1.7|          22.0|              3.3|                0.3|                0.0|             0.0|             54|         3|         3|        801|       3|            3|                 573|    52|    50|             0|                      0|                        0|          9|                        0|          30|           1|        0|         0|    0|                0|                      0|                     0|              0|           0|                 0|                    1|                        1|                  0|               0|                0|                 0|                    1|                       0|                  0|                           0|                 0|(56,[0,1,2,6,8,10...|(56,[0,1,2,6,8,10...|\n",
      "|   3000118|         30.26|          34.0|                30.0|                  0.0|           0.0|         0.0|             32.0|              -0.3|         0.0|         0.0|            0.7|              0.0|          0.0|          0.5|          0.3|         0.0|          14.3|              0.0|                0.0|                0.0|             0.0|             52|         1|         1|        210|       2|            2|                 319|     0|     0|             0|                      0|                        0|          0|                        0|          30|           3|        0|         0|    0|                0|                      0|                     0|              0|           0|                 1|                    0|                        0|                  0|               0|                0|                 1|                    1|                       0|                  0|                           0|                 0|(56,[0,1,2,6,7,10...|(56,[0,1,2,6,7,10...|\n",
      "|   3000122|         24.49|          42.0|                17.0|                  0.0|          10.0|         0.0|             81.0|              29.9|         0.0|         0.0|            0.0|              0.0|          0.0|          0.0|          0.0|         0.0|           3.0|              0.7|                0.0|                0.0|             0.0|             58|         2|         1|        913|       3|            3|                 776|    36|     0|             0|                      0|                        0|          9|                        0|          30|           1|        0|         0|    1|                0|                      0|                     0|              0|           0|                 0|                    0|                        0|                  0|               0|                0|                 1|                    0|                       1|                  0|                           0|                 2|(56,[0,1,2,4,6,7,...|(56,[0,1,2,4,6,7,...|\n",
      "|   3000126|          30.0|          94.0|                30.0|                  0.0|           0.0|         0.0|            -54.0|               0.0|         2.0|         1.7|            5.3|              0.0|          0.0|         19.5|          1.0|         0.0|          26.3|             19.3|                3.7|                0.0|             0.0|             54|         1|         1|        210|       2|            2|                1395|    42|    40|             0|                      0|                        0|          3|                        0|          30|           4|        3|         0|    0|                0|                      1|                     1|              1|           1|                 0|                    0|                        0|                  0|               0|                1|                 0|                    1|                       0|                  0|                           0|                 0|(56,[0,1,2,6,8,9,...|(56,[0,1,2,6,8,9,...|\n",
      "+----------+--------------+--------------+--------------------+---------------------+--------------+------------+-----------------+------------------+------------+------------+---------------+-----------------+-------------+-------------+-------------+------------+--------------+-----------------+-------------------+-------------------+----------------+---------------+----------+----------+-----------+--------+-------------+--------------------+------+------+--------------+-----------------------+-------------------------+-----------+-------------------------+------------+------------+---------+----------+-----+-----------------+-----------------------+----------------------+---------------+------------+------------------+---------------------+-------------------------+-------------------+----------------+-----------------+------------------+---------------------+------------------------+-------------------+----------------------------+------------------+--------------------+--------------------+\n",
      "only showing top 20 rows\n",
      "\n"
     ]
    }
   ],
   "source": [
    "from pyspark.ml.feature import StandardScaler\n",
    "\n",
    "scaler = StandardScaler(inputCol=\"features\", outputCol=\"scaledFeatures\")\n",
    "\n",
    "# # Compute summary statistics by fitting the StandardScaler\n",
    "scalerModel = scaler.fit(features_vectorized)\n",
    "\n",
    "# Normalize each feature to have unit standard deviation.\n",
    "scaledData = scalerModel.transform(features_vectorized)\n",
    "scaledData.show()"
   ]
  },
  {
   "cell_type": "code",
   "execution_count": 41,
   "metadata": {},
   "outputs": [
    {
     "name": "stderr",
     "output_type": "stream",
     "text": [
      "                                                                                \r"
     ]
    },
    {
     "data": {
      "text/plain": [
       "[Row(label=1, count=14245), Row(label=0, count=35507)]"
      ]
     },
     "execution_count": 41,
     "metadata": {},
     "output_type": "execute_result"
    }
   ],
   "source": [
    "# Check the distribution of label\n",
    "scaledData.select(\"label\").groupBy(\"label\").count().collect()"
   ]
  },
  {
   "cell_type": "markdown",
   "metadata": {},
   "source": [
    "Since the data set is highly skewed (ie we have much more Negative training samples than Positive training samples)\n",
    "\n",
    "We can use down-samplings (which means we just randomly filter out some of the majority cases.)"
   ]
  },
  {
   "cell_type": "code",
   "execution_count": 42,
   "metadata": {},
   "outputs": [
    {
     "name": "stderr",
     "output_type": "stream",
     "text": [
      "                                                                                \r"
     ]
    },
    {
     "data": {
      "text/plain": [
       "[Row(label=1, count=14245), Row(label=0, count=14149)]"
      ]
     },
     "execution_count": 42,
     "metadata": {},
     "output_type": "execute_result"
    }
   ],
   "source": [
    "# Down-sampling\n",
    "scaledData_ds, _ = scaledData.filter(scaledData[\"label\"] == 0.0).randomSplit([0.4, 0.6])\n",
    "scaledData_ds = scaledData.filter(scaledData[\"label\"] == 1.0).union(scaledData_ds)\n",
    "scaledData_ds.select(\"label\").groupBy(\"label\").count().collect()"
   ]
  },
  {
   "cell_type": "code",
   "execution_count": 43,
   "metadata": {},
   "outputs": [],
   "source": [
    "# Split dataset into train and test set\n",
    "train, test = scaledData_ds.randomSplit([0.8, 0.2])"
   ]
  },
  {
   "cell_type": "markdown",
   "metadata": {},
   "source": [
    "## Random Forest Classifier Model"
   ]
  },
  {
   "cell_type": "code",
   "execution_count": 44,
   "metadata": {},
   "outputs": [
    {
     "name": "stderr",
     "output_type": "stream",
     "text": [
      "                                                                                \r"
     ]
    },
    {
     "name": "stdout",
     "output_type": "stream",
     "text": [
      "23/09/28 22:48:35 WARN DAGScheduler: Broadcasting large task binary with size 1007.0 KiB\n",
      "23/09/28 22:48:36 WARN DAGScheduler: Broadcasting large task binary with size 1281.5 KiB\n"
     ]
    },
    {
     "name": "stderr",
     "output_type": "stream",
     "text": [
      "                                                                                \r"
     ]
    },
    {
     "name": "stdout",
     "output_type": "stream",
     "text": [
      "23/09/28 22:48:38 WARN DAGScheduler: Broadcasting large task binary with size 1156.7 KiB\n",
      "23/09/28 22:48:47 WARN DAGScheduler: Broadcasting large task binary with size 1006.2 KiB\n",
      "23/09/28 22:48:48 WARN DAGScheduler: Broadcasting large task binary with size 1283.3 KiB\n"
     ]
    },
    {
     "name": "stderr",
     "output_type": "stream",
     "text": [
      "                                                                                \r"
     ]
    },
    {
     "name": "stdout",
     "output_type": "stream",
     "text": [
      "23/09/28 22:48:52 WARN DAGScheduler: Broadcasting large task binary with size 1112.0 KiB\n"
     ]
    },
    {
     "name": "stderr",
     "output_type": "stream",
     "text": [
      "                                                                                \r"
     ]
    },
    {
     "name": "stdout",
     "output_type": "stream",
     "text": [
      "23/09/28 22:49:05 WARN DAGScheduler: Broadcasting large task binary with size 1004.9 KiB\n",
      "23/09/28 22:49:06 WARN DAGScheduler: Broadcasting large task binary with size 1271.8 KiB\n",
      "23/09/28 22:49:08 WARN DAGScheduler: Broadcasting large task binary with size 1074.3 KiB\n",
      "23/09/28 22:49:16 WARN DAGScheduler: Broadcasting large task binary with size 1241.4 KiB\n",
      "23/09/28 22:49:18 WARN DAGScheduler: Broadcasting large task binary with size 1030.6 KiB\n",
      "23/09/28 22:49:23 WARN DAGScheduler: Broadcasting large task binary with size 1177.9 KiB\n",
      "23/09/28 22:49:24 WARN DAGScheduler: Broadcasting large task binary with size 1484.4 KiB\n",
      "23/09/28 22:49:26 WARN DAGScheduler: Broadcasting large task binary with size 1273.5 KiB\n"
     ]
    },
    {
     "name": "stderr",
     "output_type": "stream",
     "text": [
      "                                                                                \r"
     ]
    },
    {
     "name": "stdout",
     "output_type": "stream",
     "text": [
      "23/09/28 22:49:31 WARN DAGScheduler: Broadcasting large task binary with size 1007.0 KiB\n",
      "23/09/28 22:49:32 WARN DAGScheduler: Broadcasting large task binary with size 1281.5 KiB\n"
     ]
    },
    {
     "name": "stderr",
     "output_type": "stream",
     "text": [
      "                                                                                \r"
     ]
    },
    {
     "name": "stdout",
     "output_type": "stream",
     "text": [
      "23/09/28 22:49:33 WARN DAGScheduler: Broadcasting large task binary with size 1696.4 KiB\n"
     ]
    },
    {
     "name": "stderr",
     "output_type": "stream",
     "text": [
      "                                                                                \r"
     ]
    },
    {
     "name": "stdout",
     "output_type": "stream",
     "text": [
      "23/09/28 22:49:37 WARN DAGScheduler: Broadcasting large task binary with size 2.2 MiB\n"
     ]
    },
    {
     "name": "stderr",
     "output_type": "stream",
     "text": [
      "                                                                                \r"
     ]
    },
    {
     "name": "stdout",
     "output_type": "stream",
     "text": [
      "23/09/28 22:49:39 WARN DAGScheduler: Broadcasting large task binary with size 1870.5 KiB\n"
     ]
    },
    {
     "name": "stderr",
     "output_type": "stream",
     "text": [
      "                                                                                \r"
     ]
    },
    {
     "name": "stdout",
     "output_type": "stream",
     "text": [
      "23/09/28 22:49:46 WARN DAGScheduler: Broadcasting large task binary with size 1171.1 KiB\n",
      "23/09/28 22:49:47 WARN DAGScheduler: Broadcasting large task binary with size 1463.8 KiB\n"
     ]
    },
    {
     "name": "stderr",
     "output_type": "stream",
     "text": [
      "                                                                                \r"
     ]
    },
    {
     "name": "stdout",
     "output_type": "stream",
     "text": [
      "23/09/28 22:49:50 WARN DAGScheduler: Broadcasting large task binary with size 1175.9 KiB\n"
     ]
    },
    {
     "name": "stderr",
     "output_type": "stream",
     "text": [
      "                                                                                \r"
     ]
    },
    {
     "name": "stdout",
     "output_type": "stream",
     "text": [
      "23/09/28 22:49:55 WARN DAGScheduler: Broadcasting large task binary with size 1006.2 KiB\n"
     ]
    },
    {
     "name": "stderr",
     "output_type": "stream",
     "text": [
      "                                                                                \r"
     ]
    },
    {
     "name": "stdout",
     "output_type": "stream",
     "text": [
      "23/09/28 22:49:57 WARN DAGScheduler: Broadcasting large task binary with size 1283.3 KiB\n"
     ]
    },
    {
     "name": "stderr",
     "output_type": "stream",
     "text": [
      "                                                                                \r"
     ]
    },
    {
     "name": "stdout",
     "output_type": "stream",
     "text": [
      "23/09/28 22:49:59 WARN DAGScheduler: Broadcasting large task binary with size 1696.0 KiB\n"
     ]
    },
    {
     "name": "stderr",
     "output_type": "stream",
     "text": [
      "                                                                                \r"
     ]
    },
    {
     "name": "stdout",
     "output_type": "stream",
     "text": [
      "23/09/28 22:50:00 WARN DAGScheduler: Broadcasting large task binary with size 2.2 MiB\n"
     ]
    },
    {
     "name": "stderr",
     "output_type": "stream",
     "text": [
      "                                                                                \r"
     ]
    },
    {
     "name": "stdout",
     "output_type": "stream",
     "text": [
      "23/09/28 22:50:05 WARN DAGScheduler: Broadcasting large task binary with size 1675.8 KiB\n"
     ]
    },
    {
     "name": "stderr",
     "output_type": "stream",
     "text": [
      "                                                                                \r"
     ]
    },
    {
     "name": "stdout",
     "output_type": "stream",
     "text": [
      "23/09/28 22:50:18 WARN DAGScheduler: Broadcasting large task binary with size 1150.5 KiB\n"
     ]
    },
    {
     "name": "stderr",
     "output_type": "stream",
     "text": [
      "                                                                                \r"
     ]
    },
    {
     "name": "stdout",
     "output_type": "stream",
     "text": [
      "23/09/28 22:50:19 WARN DAGScheduler: Broadcasting large task binary with size 1427.9 KiB\n"
     ]
    },
    {
     "name": "stderr",
     "output_type": "stream",
     "text": [
      "                                                                                \r"
     ]
    },
    {
     "name": "stdout",
     "output_type": "stream",
     "text": [
      "23/09/28 22:50:22 WARN DAGScheduler: Broadcasting large task binary with size 1120.4 KiB\n"
     ]
    },
    {
     "name": "stderr",
     "output_type": "stream",
     "text": [
      "                                                                                \r"
     ]
    },
    {
     "name": "stdout",
     "output_type": "stream",
     "text": [
      "23/09/28 22:50:30 WARN DAGScheduler: Broadcasting large task binary with size 1004.9 KiB\n"
     ]
    },
    {
     "name": "stderr",
     "output_type": "stream",
     "text": [
      "                                                                                \r"
     ]
    },
    {
     "name": "stdout",
     "output_type": "stream",
     "text": [
      "23/09/28 22:50:31 WARN DAGScheduler: Broadcasting large task binary with size 1271.8 KiB\n"
     ]
    },
    {
     "name": "stderr",
     "output_type": "stream",
     "text": [
      "                                                                                \r"
     ]
    },
    {
     "name": "stdout",
     "output_type": "stream",
     "text": [
      "23/09/28 22:50:34 WARN DAGScheduler: Broadcasting large task binary with size 1664.0 KiB\n"
     ]
    },
    {
     "name": "stderr",
     "output_type": "stream",
     "text": [
      "                                                                                \r"
     ]
    },
    {
     "name": "stdout",
     "output_type": "stream",
     "text": [
      "23/09/28 22:50:36 WARN DAGScheduler: Broadcasting large task binary with size 2.2 MiB\n"
     ]
    },
    {
     "name": "stderr",
     "output_type": "stream",
     "text": [
      "                                                                                \r"
     ]
    },
    {
     "name": "stdout",
     "output_type": "stream",
     "text": [
      "23/09/28 22:50:39 WARN DAGScheduler: Broadcasting large task binary with size 1565.9 KiB\n",
      "23/09/28 22:50:44 WARN DAGScheduler: Broadcasting large task binary with size 1115.6 KiB\n"
     ]
    },
    {
     "name": "stderr",
     "output_type": "stream",
     "text": [
      "                                                                                \r"
     ]
    },
    {
     "name": "stdout",
     "output_type": "stream",
     "text": [
      "23/09/28 22:50:46 WARN DAGScheduler: Broadcasting large task binary with size 1350.3 KiB\n",
      "23/09/28 22:50:47 WARN DAGScheduler: Broadcasting large task binary with size 1029.8 KiB\n",
      "23/09/28 22:50:51 WARN DAGScheduler: Broadcasting large task binary with size 1241.4 KiB\n"
     ]
    },
    {
     "name": "stderr",
     "output_type": "stream",
     "text": [
      "                                                                                \r"
     ]
    },
    {
     "name": "stdout",
     "output_type": "stream",
     "text": [
      "23/09/28 22:50:53 WARN DAGScheduler: Broadcasting large task binary with size 1589.0 KiB\n",
      "23/09/28 22:50:54 WARN DAGScheduler: Broadcasting large task binary with size 2.0 MiB\n"
     ]
    },
    {
     "name": "stderr",
     "output_type": "stream",
     "text": [
      "                                                                                \r"
     ]
    },
    {
     "name": "stdout",
     "output_type": "stream",
     "text": [
      "23/09/28 22:50:58 WARN DAGScheduler: Broadcasting large task binary with size 1407.4 KiB\n"
     ]
    },
    {
     "name": "stderr",
     "output_type": "stream",
     "text": [
      "                                                                                \r"
     ]
    },
    {
     "name": "stdout",
     "output_type": "stream",
     "text": [
      "23/09/28 22:51:05 WARN DAGScheduler: Broadcasting large task binary with size 1177.9 KiB\n",
      "23/09/28 22:51:06 WARN DAGScheduler: Broadcasting large task binary with size 1484.4 KiB\n",
      "23/09/28 22:51:07 WARN DAGScheduler: Broadcasting large task binary with size 1903.8 KiB\n"
     ]
    },
    {
     "name": "stderr",
     "output_type": "stream",
     "text": [
      "                                                                                \r"
     ]
    },
    {
     "name": "stdout",
     "output_type": "stream",
     "text": [
      "23/09/28 22:51:08 WARN DAGScheduler: Broadcasting large task binary with size 2.4 MiB\n"
     ]
    },
    {
     "name": "stderr",
     "output_type": "stream",
     "text": [
      "                                                                                \r"
     ]
    },
    {
     "name": "stdout",
     "output_type": "stream",
     "text": [
      "23/09/28 22:51:11 WARN DAGScheduler: Broadcasting large task binary with size 1919.7 KiB\n",
      "23/09/28 22:51:15 WARN DAGScheduler: Broadcasting large task binary with size 1007.0 KiB\n",
      "23/09/28 22:51:15 WARN DAGScheduler: Broadcasting large task binary with size 1281.5 KiB\n",
      "23/09/28 22:51:16 WARN DAGScheduler: Broadcasting large task binary with size 1696.4 KiB\n"
     ]
    },
    {
     "name": "stderr",
     "output_type": "stream",
     "text": [
      "                                                                                \r"
     ]
    },
    {
     "name": "stdout",
     "output_type": "stream",
     "text": [
      "23/09/28 22:51:18 WARN DAGScheduler: Broadcasting large task binary with size 2.2 MiB\n"
     ]
    },
    {
     "name": "stderr",
     "output_type": "stream",
     "text": [
      "                                                                                \r"
     ]
    },
    {
     "name": "stdout",
     "output_type": "stream",
     "text": [
      "23/09/28 22:51:19 WARN DAGScheduler: Broadcasting large task binary with size 3.0 MiB\n"
     ]
    },
    {
     "name": "stderr",
     "output_type": "stream",
     "text": [
      "                                                                                \r"
     ]
    },
    {
     "name": "stdout",
     "output_type": "stream",
     "text": [
      "23/09/28 22:51:21 WARN DAGScheduler: Broadcasting large task binary with size 4.0 MiB\n"
     ]
    },
    {
     "name": "stderr",
     "output_type": "stream",
     "text": [
      "                                                                                \r"
     ]
    },
    {
     "name": "stdout",
     "output_type": "stream",
     "text": [
      "23/09/28 22:51:23 WARN DAGScheduler: Broadcasting large task binary with size 3.0 MiB\n"
     ]
    },
    {
     "name": "stderr",
     "output_type": "stream",
     "text": [
      "                                                                                \r"
     ]
    },
    {
     "name": "stdout",
     "output_type": "stream",
     "text": [
      "23/09/28 22:51:28 WARN DAGScheduler: Broadcasting large task binary with size 1171.1 KiB\n"
     ]
    },
    {
     "name": "stderr",
     "output_type": "stream",
     "text": [
      "                                                                                \r"
     ]
    },
    {
     "name": "stdout",
     "output_type": "stream",
     "text": [
      "23/09/28 22:51:30 WARN DAGScheduler: Broadcasting large task binary with size 1463.8 KiB\n",
      "23/09/28 22:51:31 WARN DAGScheduler: Broadcasting large task binary with size 1854.4 KiB\n"
     ]
    },
    {
     "name": "stderr",
     "output_type": "stream",
     "text": [
      "                                                                                \r"
     ]
    },
    {
     "name": "stdout",
     "output_type": "stream",
     "text": [
      "23/09/28 22:51:32 WARN DAGScheduler: Broadcasting large task binary with size 2.3 MiB\n"
     ]
    },
    {
     "name": "stderr",
     "output_type": "stream",
     "text": [
      "                                                                                \r"
     ]
    },
    {
     "name": "stdout",
     "output_type": "stream",
     "text": [
      "23/09/28 22:51:35 WARN DAGScheduler: Broadcasting large task binary with size 1642.9 KiB\n"
     ]
    },
    {
     "name": "stderr",
     "output_type": "stream",
     "text": [
      "                                                                                \r"
     ]
    },
    {
     "name": "stdout",
     "output_type": "stream",
     "text": [
      "23/09/28 22:51:41 WARN DAGScheduler: Broadcasting large task binary with size 1006.2 KiB\n",
      "23/09/28 22:51:42 WARN DAGScheduler: Broadcasting large task binary with size 1283.3 KiB\n",
      "23/09/28 22:51:42 WARN DAGScheduler: Broadcasting large task binary with size 1696.0 KiB\n",
      "23/09/28 22:51:43 WARN DAGScheduler: Broadcasting large task binary with size 2.2 MiB\n",
      "23/09/28 22:51:44 WARN DAGScheduler: Broadcasting large task binary with size 3.0 MiB\n"
     ]
    },
    {
     "name": "stderr",
     "output_type": "stream",
     "text": [
      "                                                                                \r"
     ]
    },
    {
     "name": "stdout",
     "output_type": "stream",
     "text": [
      "23/09/28 22:51:46 WARN DAGScheduler: Broadcasting large task binary with size 3.9 MiB\n"
     ]
    },
    {
     "name": "stderr",
     "output_type": "stream",
     "text": [
      "                                                                                \r"
     ]
    },
    {
     "name": "stdout",
     "output_type": "stream",
     "text": [
      "23/09/28 22:51:48 WARN DAGScheduler: Broadcasting large task binary with size 2.5 MiB\n",
      "23/09/28 22:51:51 WARN DAGScheduler: Broadcasting large task binary with size 1150.5 KiB\n",
      "23/09/28 22:51:51 WARN DAGScheduler: Broadcasting large task binary with size 1427.9 KiB\n",
      "23/09/28 22:51:52 WARN DAGScheduler: Broadcasting large task binary with size 1799.3 KiB\n"
     ]
    },
    {
     "name": "stderr",
     "output_type": "stream",
     "text": [
      "                                                                                \r"
     ]
    },
    {
     "name": "stdout",
     "output_type": "stream",
     "text": [
      "23/09/28 22:51:55 WARN DAGScheduler: Broadcasting large task binary with size 2.2 MiB\n"
     ]
    },
    {
     "name": "stderr",
     "output_type": "stream",
     "text": [
      "                                                                                \r"
     ]
    },
    {
     "name": "stdout",
     "output_type": "stream",
     "text": [
      "23/09/28 22:51:58 WARN DAGScheduler: Broadcasting large task binary with size 1490.7 KiB\n",
      "23/09/28 22:52:03 WARN DAGScheduler: Broadcasting large task binary with size 1004.9 KiB\n",
      "23/09/28 22:52:03 WARN DAGScheduler: Broadcasting large task binary with size 1271.8 KiB\n",
      "23/09/28 22:52:04 WARN DAGScheduler: Broadcasting large task binary with size 1664.0 KiB\n",
      "23/09/28 22:52:05 WARN DAGScheduler: Broadcasting large task binary with size 2.2 MiB\n"
     ]
    },
    {
     "name": "stderr",
     "output_type": "stream",
     "text": [
      "                                                                                \r"
     ]
    },
    {
     "name": "stdout",
     "output_type": "stream",
     "text": [
      "23/09/28 22:52:06 WARN DAGScheduler: Broadcasting large task binary with size 2.9 MiB\n"
     ]
    },
    {
     "name": "stderr",
     "output_type": "stream",
     "text": [
      "                                                                                \r"
     ]
    },
    {
     "name": "stdout",
     "output_type": "stream",
     "text": [
      "23/09/28 22:52:07 WARN DAGScheduler: Broadcasting large task binary with size 3.7 MiB\n"
     ]
    },
    {
     "name": "stderr",
     "output_type": "stream",
     "text": [
      "                                                                                \r"
     ]
    },
    {
     "name": "stdout",
     "output_type": "stream",
     "text": [
      "23/09/28 22:52:09 WARN DAGScheduler: Broadcasting large task binary with size 2.2 MiB\n"
     ]
    },
    {
     "name": "stderr",
     "output_type": "stream",
     "text": [
      "                                                                                \r"
     ]
    },
    {
     "name": "stdout",
     "output_type": "stream",
     "text": [
      "23/09/28 22:52:13 WARN DAGScheduler: Broadcasting large task binary with size 1115.6 KiB\n",
      "23/09/28 22:52:14 WARN DAGScheduler: Broadcasting large task binary with size 1350.3 KiB\n",
      "23/09/28 22:52:15 WARN DAGScheduler: Broadcasting large task binary with size 1631.8 KiB\n"
     ]
    },
    {
     "name": "stderr",
     "output_type": "stream",
     "text": [
      "                                                                                \r"
     ]
    },
    {
     "name": "stdout",
     "output_type": "stream",
     "text": [
      "23/09/28 22:52:16 WARN DAGScheduler: Broadcasting large task binary with size 1955.7 KiB\n",
      "23/09/28 22:52:17 WARN DAGScheduler: Broadcasting large task binary with size 1259.7 KiB\n"
     ]
    },
    {
     "name": "stderr",
     "output_type": "stream",
     "text": [
      "                                                                                \r"
     ]
    },
    {
     "name": "stdout",
     "output_type": "stream",
     "text": [
      "23/09/28 22:52:23 WARN DAGScheduler: Broadcasting large task binary with size 1241.4 KiB\n"
     ]
    },
    {
     "name": "stderr",
     "output_type": "stream",
     "text": [
      "                                                                                \r"
     ]
    },
    {
     "name": "stdout",
     "output_type": "stream",
     "text": [
      "23/09/28 22:52:26 WARN DAGScheduler: Broadcasting large task binary with size 1589.0 KiB\n"
     ]
    },
    {
     "name": "stderr",
     "output_type": "stream",
     "text": [
      "                                                                                \r"
     ]
    },
    {
     "name": "stdout",
     "output_type": "stream",
     "text": [
      "23/09/28 22:52:29 WARN DAGScheduler: Broadcasting large task binary with size 2.0 MiB\n"
     ]
    },
    {
     "name": "stderr",
     "output_type": "stream",
     "text": [
      "                                                                                \r"
     ]
    },
    {
     "name": "stdout",
     "output_type": "stream",
     "text": [
      "23/09/28 22:52:31 WARN DAGScheduler: Broadcasting large task binary with size 2.6 MiB\n"
     ]
    },
    {
     "name": "stderr",
     "output_type": "stream",
     "text": [
      "                                                                                \r"
     ]
    },
    {
     "name": "stdout",
     "output_type": "stream",
     "text": [
      "23/09/28 22:52:33 WARN DAGScheduler: Broadcasting large task binary with size 3.2 MiB\n"
     ]
    },
    {
     "name": "stderr",
     "output_type": "stream",
     "text": [
      "                                                                                \r"
     ]
    },
    {
     "name": "stdout",
     "output_type": "stream",
     "text": [
      "23/09/28 22:52:37 WARN DAGScheduler: Broadcasting large task binary with size 1876.8 KiB\n"
     ]
    },
    {
     "name": "stderr",
     "output_type": "stream",
     "text": [
      "                                                                                \r"
     ]
    },
    {
     "name": "stdout",
     "output_type": "stream",
     "text": [
      "23/09/28 22:53:15 WARN DAGScheduler: Broadcasting large task binary with size 1230.0 KiB\n",
      "23/09/28 22:53:15 WARN DAGScheduler: Broadcasting large task binary with size 1645.0 KiB\n",
      "23/09/28 22:53:16 WARN DAGScheduler: Broadcasting large task binary with size 2.2 MiB\n"
     ]
    }
   ],
   "source": [
    "# Validation for hyper-parameter tuning.\n",
    "# Randomly splits the input dataset into train and validation sets,\n",
    "# and uses evaluation metric on the validation set to select the best model.\n",
    "rf = RandomForestClassifier(\n",
    "    featuresCol=\"features\", labelCol=\"label\", predictionCol=\"prediction\", maxBins=16\n",
    ")\n",
    "\n",
    "# Use a ParamGridBuilder to construct a grid of parameters to search over.\n",
    "# TrainValidationSplit will try all combinations of values and determine best model using the evaluator.\n",
    "paramGrid = (\n",
    "    ParamGridBuilder()\n",
    "    .addGrid(rf.maxDepth, [8, 10, 12])\n",
    "    .addGrid(rf.minInstancesPerNode, [1, 3, 5, 10])\n",
    "    .addGrid(rf.numTrees, [10, 20])\n",
    "    .build()\n",
    ")\n",
    "\n",
    "# In this case the estimator is BinaryClassificationEvaluator\n",
    "# A TrainValidationSplit requires an Estimator, a set of Estimator ParamMaps, and an Evaluator.\n",
    "tvs = TrainValidationSplit(\n",
    "    estimator=rf,\n",
    "    estimatorParamMaps=paramGrid,\n",
    "    evaluator=BinaryClassificationEvaluator(),\n",
    "    trainRatio=0.8,\n",
    ")  # 80% of the data will be used for training, 20% for validation.\n",
    "\n",
    "# Run TrainValidationSplit, and choose the best set of parameters.\n",
    "model = tvs.fit(train)\n"
   ]
  },
  {
   "cell_type": "code",
   "execution_count": 45,
   "metadata": {},
   "outputs": [],
   "source": [
    "predictions = model.transform(scaledData)"
   ]
  },
  {
   "cell_type": "markdown",
   "metadata": {},
   "source": [
    "## Gradient Boosted Trees Classifier"
   ]
  },
  {
   "cell_type": "code",
   "execution_count": 59,
   "metadata": {},
   "outputs": [
    {
     "name": "stderr",
     "output_type": "stream",
     "text": [
      "                                                                                \r"
     ]
    },
    {
     "name": "stdout",
     "output_type": "stream",
     "text": [
      "23/09/28 23:10:05 WARN InstanceBuilder$NativeBLAS: Failed to load implementation from:dev.ludovic.netlib.blas.JNIBLAS\n",
      "23/09/28 23:10:05 WARN InstanceBuilder$NativeBLAS: Failed to load implementation from:dev.ludovic.netlib.blas.ForeignLinkerBLAS\n"
     ]
    },
    {
     "name": "stderr",
     "output_type": "stream",
     "text": [
      "                                                                                \r"
     ]
    },
    {
     "name": "stdout",
     "output_type": "stream",
     "text": [
      "23/09/28 23:10:39 WARN DAGScheduler: Broadcasting large task binary with size 1002.1 KiB\n",
      "23/09/28 23:10:39 WARN DAGScheduler: Broadcasting large task binary with size 1005.9 KiB\n",
      "23/09/28 23:10:39 WARN DAGScheduler: Broadcasting large task binary with size 1011.0 KiB\n",
      "23/09/28 23:10:39 WARN DAGScheduler: Broadcasting large task binary with size 1017.3 KiB\n",
      "23/09/28 23:10:40 WARN DAGScheduler: Broadcasting large task binary with size 1014.7 KiB\n",
      "23/09/28 23:10:40 WARN DAGScheduler: Broadcasting large task binary with size 1015.2 KiB\n",
      "23/09/28 23:10:40 WARN DAGScheduler: Broadcasting large task binary with size 1015.7 KiB\n",
      "23/09/28 23:10:41 WARN DAGScheduler: Broadcasting large task binary with size 1016.9 KiB\n",
      "23/09/28 23:10:41 WARN DAGScheduler: Broadcasting large task binary with size 1019.1 KiB\n",
      "23/09/28 23:10:41 WARN DAGScheduler: Broadcasting large task binary with size 1023.4 KiB\n",
      "23/09/28 23:10:41 WARN DAGScheduler: Broadcasting large task binary with size 1031.7 KiB\n",
      "23/09/28 23:10:42 WARN DAGScheduler: Broadcasting large task binary with size 1045.1 KiB\n",
      "23/09/28 23:10:42 WARN DAGScheduler: Broadcasting large task binary with size 1044.7 KiB\n",
      "23/09/28 23:10:42 WARN DAGScheduler: Broadcasting large task binary with size 1045.1 KiB\n",
      "23/09/28 23:10:43 WARN DAGScheduler: Broadcasting large task binary with size 1045.7 KiB\n",
      "23/09/28 23:10:43 WARN DAGScheduler: Broadcasting large task binary with size 1046.8 KiB\n",
      "23/09/28 23:10:43 WARN DAGScheduler: Broadcasting large task binary with size 1049.1 KiB\n",
      "23/09/28 23:10:43 WARN DAGScheduler: Broadcasting large task binary with size 1053.1 KiB\n",
      "23/09/28 23:10:44 WARN DAGScheduler: Broadcasting large task binary with size 1059.6 KiB\n",
      "23/09/28 23:10:44 WARN DAGScheduler: Broadcasting large task binary with size 1070.7 KiB\n",
      "23/09/28 23:10:44 WARN DAGScheduler: Broadcasting large task binary with size 1071.4 KiB\n",
      "23/09/28 23:10:44 WARN DAGScheduler: Broadcasting large task binary with size 1071.9 KiB\n",
      "23/09/28 23:10:45 WARN DAGScheduler: Broadcasting large task binary with size 1072.4 KiB\n",
      "23/09/28 23:10:45 WARN DAGScheduler: Broadcasting large task binary with size 1073.6 KiB\n",
      "23/09/28 23:10:45 WARN DAGScheduler: Broadcasting large task binary with size 1075.6 KiB\n",
      "23/09/28 23:10:45 WARN DAGScheduler: Broadcasting large task binary with size 1078.8 KiB\n",
      "23/09/28 23:10:45 WARN DAGScheduler: Broadcasting large task binary with size 1084.2 KiB\n",
      "23/09/28 23:10:46 WARN DAGScheduler: Broadcasting large task binary with size 1093.2 KiB\n",
      "23/09/28 23:10:46 WARN DAGScheduler: Broadcasting large task binary with size 1092.1 KiB\n",
      "23/09/28 23:10:47 WARN DAGScheduler: Broadcasting large task binary with size 1092.6 KiB\n",
      "23/09/28 23:10:47 WARN DAGScheduler: Broadcasting large task binary with size 1093.2 KiB\n",
      "23/09/28 23:10:47 WARN DAGScheduler: Broadcasting large task binary with size 1094.3 KiB\n",
      "23/09/28 23:10:47 WARN DAGScheduler: Broadcasting large task binary with size 1095.8 KiB\n",
      "23/09/28 23:10:47 WARN DAGScheduler: Broadcasting large task binary with size 1097.8 KiB\n",
      "23/09/28 23:10:48 WARN DAGScheduler: Broadcasting large task binary with size 1101.3 KiB\n",
      "23/09/28 23:10:48 WARN DAGScheduler: Broadcasting large task binary with size 1108.0 KiB\n",
      "23/09/28 23:10:48 WARN DAGScheduler: Broadcasting large task binary with size 1109.0 KiB\n",
      "23/09/28 23:10:49 WARN DAGScheduler: Broadcasting large task binary with size 1109.4 KiB\n",
      "23/09/28 23:10:49 WARN DAGScheduler: Broadcasting large task binary with size 1110.0 KiB\n",
      "23/09/28 23:10:49 WARN DAGScheduler: Broadcasting large task binary with size 1111.2 KiB\n",
      "23/09/28 23:10:49 WARN DAGScheduler: Broadcasting large task binary with size 1113.4 KiB\n",
      "23/09/28 23:10:50 WARN DAGScheduler: Broadcasting large task binary with size 1118.0 KiB\n",
      "23/09/28 23:10:50 WARN DAGScheduler: Broadcasting large task binary with size 1125.0 KiB\n",
      "23/09/28 23:10:50 WARN DAGScheduler: Broadcasting large task binary with size 1136.0 KiB\n",
      "23/09/28 23:10:50 WARN DAGScheduler: Broadcasting large task binary with size 1133.6 KiB\n",
      "23/09/28 23:10:51 WARN DAGScheduler: Broadcasting large task binary with size 1134.1 KiB\n",
      "23/09/28 23:10:51 WARN DAGScheduler: Broadcasting large task binary with size 1134.6 KiB\n",
      "23/09/28 23:10:51 WARN DAGScheduler: Broadcasting large task binary with size 1135.8 KiB\n",
      "23/09/28 23:10:51 WARN DAGScheduler: Broadcasting large task binary with size 1138.0 KiB\n",
      "23/09/28 23:10:52 WARN DAGScheduler: Broadcasting large task binary with size 1141.5 KiB\n",
      "23/09/28 23:10:52 WARN DAGScheduler: Broadcasting large task binary with size 1147.4 KiB\n",
      "23/09/28 23:10:52 WARN DAGScheduler: Broadcasting large task binary with size 1158.5 KiB\n",
      "23/09/28 23:10:54 WARN DAGScheduler: Broadcasting large task binary with size 1150.5 KiB\n"
     ]
    },
    {
     "name": "stderr",
     "output_type": "stream",
     "text": [
      "                                                                                \r"
     ]
    },
    {
     "name": "stdout",
     "output_type": "stream",
     "text": [
      "23/09/28 23:12:10 WARN DAGScheduler: Broadcasting large task binary with size 1000.4 KiB\n",
      "23/09/28 23:12:10 WARN DAGScheduler: Broadcasting large task binary with size 1003.3 KiB\n",
      "23/09/28 23:12:10 WARN DAGScheduler: Broadcasting large task binary with size 1004.0 KiB\n",
      "23/09/28 23:12:11 WARN DAGScheduler: Broadcasting large task binary with size 1004.5 KiB\n",
      "23/09/28 23:12:11 WARN DAGScheduler: Broadcasting large task binary with size 1005.0 KiB\n",
      "23/09/28 23:12:11 WARN DAGScheduler: Broadcasting large task binary with size 1006.2 KiB\n",
      "23/09/28 23:12:12 WARN DAGScheduler: Broadcasting large task binary with size 1008.4 KiB\n",
      "23/09/28 23:12:12 WARN DAGScheduler: Broadcasting large task binary with size 1010.9 KiB\n",
      "23/09/28 23:12:12 WARN DAGScheduler: Broadcasting large task binary with size 1015.2 KiB\n",
      "23/09/28 23:12:12 WARN DAGScheduler: Broadcasting large task binary with size 1021.5 KiB\n",
      "23/09/28 23:12:13 WARN DAGScheduler: Broadcasting large task binary with size 1012.8 KiB\n"
     ]
    },
    {
     "name": "stderr",
     "output_type": "stream",
     "text": [
      "                                                                                \r"
     ]
    },
    {
     "name": "stdout",
     "output_type": "stream",
     "text": [
      "23/09/28 23:13:35 WARN DAGScheduler: Broadcasting large task binary with size 1012.5 KiB\n",
      "23/09/28 23:13:35 WARN DAGScheduler: Broadcasting large task binary with size 1001.9 KiB\n",
      "23/09/28 23:13:36 WARN DAGScheduler: Broadcasting large task binary with size 1002.4 KiB\n",
      "23/09/28 23:13:36 WARN DAGScheduler: Broadcasting large task binary with size 1003.0 KiB\n",
      "23/09/28 23:13:36 WARN DAGScheduler: Broadcasting large task binary with size 1004.1 KiB\n",
      "23/09/28 23:13:36 WARN DAGScheduler: Broadcasting large task binary with size 1006.1 KiB\n",
      "23/09/28 23:13:36 WARN DAGScheduler: Broadcasting large task binary with size 1009.5 KiB\n",
      "23/09/28 23:13:37 WARN DAGScheduler: Broadcasting large task binary with size 1014.8 KiB\n",
      "23/09/28 23:13:37 WARN DAGScheduler: Broadcasting large task binary with size 1022.1 KiB\n",
      "23/09/28 23:13:37 WARN DAGScheduler: Broadcasting large task binary with size 1029.7 KiB\n",
      "23/09/28 23:13:37 WARN DAGScheduler: Broadcasting large task binary with size 1038.4 KiB\n",
      "23/09/28 23:13:38 WARN DAGScheduler: Broadcasting large task binary with size 1029.9 KiB\n",
      "23/09/28 23:13:38 WARN DAGScheduler: Broadcasting large task binary with size 1030.4 KiB\n",
      "23/09/28 23:13:38 WARN DAGScheduler: Broadcasting large task binary with size 1031.0 KiB\n",
      "23/09/28 23:13:39 WARN DAGScheduler: Broadcasting large task binary with size 1032.1 KiB\n",
      "23/09/28 23:13:39 WARN DAGScheduler: Broadcasting large task binary with size 1034.4 KiB\n",
      "23/09/28 23:13:39 WARN DAGScheduler: Broadcasting large task binary with size 1038.1 KiB\n",
      "23/09/28 23:13:40 WARN DAGScheduler: Broadcasting large task binary with size 1045.0 KiB\n",
      "23/09/28 23:13:40 WARN DAGScheduler: Broadcasting large task binary with size 1057.1 KiB\n",
      "23/09/28 23:13:40 WARN DAGScheduler: Broadcasting large task binary with size 1075.1 KiB\n",
      "23/09/28 23:13:41 WARN DAGScheduler: Broadcasting large task binary with size 1099.6 KiB\n",
      "23/09/28 23:13:41 WARN DAGScheduler: Broadcasting large task binary with size 1086.1 KiB\n",
      "23/09/28 23:13:41 WARN DAGScheduler: Broadcasting large task binary with size 1086.6 KiB\n",
      "23/09/28 23:13:41 WARN DAGScheduler: Broadcasting large task binary with size 1087.2 KiB\n",
      "23/09/28 23:13:42 WARN DAGScheduler: Broadcasting large task binary with size 1088.3 KiB\n",
      "23/09/28 23:13:42 WARN DAGScheduler: Broadcasting large task binary with size 1090.6 KiB\n",
      "23/09/28 23:13:42 WARN DAGScheduler: Broadcasting large task binary with size 1094.8 KiB\n",
      "23/09/28 23:13:42 WARN DAGScheduler: Broadcasting large task binary with size 1101.8 KiB\n",
      "23/09/28 23:13:42 WARN DAGScheduler: Broadcasting large task binary with size 1113.7 KiB\n",
      "23/09/28 23:13:43 WARN DAGScheduler: Broadcasting large task binary with size 1129.4 KiB\n",
      "23/09/28 23:13:43 WARN DAGScheduler: Broadcasting large task binary with size 1148.1 KiB\n"
     ]
    },
    {
     "name": "stderr",
     "output_type": "stream",
     "text": [
      "                                                                                \r"
     ]
    },
    {
     "name": "stdout",
     "output_type": "stream",
     "text": [
      "23/09/28 23:13:44 WARN DAGScheduler: Broadcasting large task binary with size 1134.7 KiB\n",
      "23/09/28 23:13:45 WARN DAGScheduler: Broadcasting large task binary with size 1135.2 KiB\n",
      "23/09/28 23:13:45 WARN DAGScheduler: Broadcasting large task binary with size 1135.8 KiB\n",
      "23/09/28 23:13:45 WARN DAGScheduler: Broadcasting large task binary with size 1136.9 KiB\n",
      "23/09/28 23:13:45 WARN DAGScheduler: Broadcasting large task binary with size 1139.2 KiB\n",
      "23/09/28 23:13:46 WARN DAGScheduler: Broadcasting large task binary with size 1142.9 KiB\n",
      "23/09/28 23:13:46 WARN DAGScheduler: Broadcasting large task binary with size 1149.6 KiB\n",
      "23/09/28 23:13:46 WARN DAGScheduler: Broadcasting large task binary with size 1160.0 KiB\n",
      "23/09/28 23:13:47 WARN DAGScheduler: Broadcasting large task binary with size 1174.0 KiB\n",
      "23/09/28 23:13:47 WARN DAGScheduler: Broadcasting large task binary with size 1192.7 KiB\n",
      "23/09/28 23:13:48 WARN DAGScheduler: Broadcasting large task binary with size 1176.6 KiB\n",
      "23/09/28 23:14:04 WARN DAGScheduler: Broadcasting large task binary with size 1012.5 KiB\n",
      "23/09/28 23:14:05 WARN DAGScheduler: Broadcasting large task binary with size 1001.9 KiB\n",
      "23/09/28 23:14:05 WARN DAGScheduler: Broadcasting large task binary with size 1002.4 KiB\n",
      "23/09/28 23:14:05 WARN DAGScheduler: Broadcasting large task binary with size 1003.0 KiB\n",
      "23/09/28 23:14:05 WARN DAGScheduler: Broadcasting large task binary with size 1004.1 KiB\n",
      "23/09/28 23:14:06 WARN DAGScheduler: Broadcasting large task binary with size 1006.1 KiB\n",
      "23/09/28 23:14:06 WARN DAGScheduler: Broadcasting large task binary with size 1009.5 KiB\n",
      "23/09/28 23:14:06 WARN DAGScheduler: Broadcasting large task binary with size 1014.8 KiB\n",
      "23/09/28 23:14:06 WARN DAGScheduler: Broadcasting large task binary with size 1022.1 KiB\n",
      "23/09/28 23:14:06 WARN DAGScheduler: Broadcasting large task binary with size 1029.7 KiB\n",
      "23/09/28 23:14:07 WARN DAGScheduler: Broadcasting large task binary with size 1038.4 KiB\n",
      "23/09/28 23:14:07 WARN DAGScheduler: Broadcasting large task binary with size 1029.9 KiB\n",
      "23/09/28 23:14:07 WARN DAGScheduler: Broadcasting large task binary with size 1030.4 KiB\n",
      "23/09/28 23:14:07 WARN DAGScheduler: Broadcasting large task binary with size 1031.0 KiB\n",
      "23/09/28 23:14:08 WARN DAGScheduler: Broadcasting large task binary with size 1032.1 KiB\n",
      "23/09/28 23:14:08 WARN DAGScheduler: Broadcasting large task binary with size 1034.4 KiB\n",
      "23/09/28 23:14:08 WARN DAGScheduler: Broadcasting large task binary with size 1038.1 KiB\n",
      "23/09/28 23:14:08 WARN DAGScheduler: Broadcasting large task binary with size 1045.0 KiB\n",
      "23/09/28 23:14:09 WARN DAGScheduler: Broadcasting large task binary with size 1057.1 KiB\n",
      "23/09/28 23:14:09 WARN DAGScheduler: Broadcasting large task binary with size 1075.1 KiB\n",
      "23/09/28 23:14:09 WARN DAGScheduler: Broadcasting large task binary with size 1099.6 KiB\n",
      "23/09/28 23:14:10 WARN DAGScheduler: Broadcasting large task binary with size 1086.1 KiB\n",
      "23/09/28 23:14:10 WARN DAGScheduler: Broadcasting large task binary with size 1086.6 KiB\n",
      "23/09/28 23:14:10 WARN DAGScheduler: Broadcasting large task binary with size 1087.2 KiB\n",
      "23/09/28 23:14:11 WARN DAGScheduler: Broadcasting large task binary with size 1088.3 KiB\n",
      "23/09/28 23:14:11 WARN DAGScheduler: Broadcasting large task binary with size 1090.6 KiB\n",
      "23/09/28 23:14:12 WARN DAGScheduler: Broadcasting large task binary with size 1094.8 KiB\n",
      "23/09/28 23:14:12 WARN DAGScheduler: Broadcasting large task binary with size 1101.8 KiB\n",
      "23/09/28 23:14:12 WARN DAGScheduler: Broadcasting large task binary with size 1113.7 KiB\n",
      "23/09/28 23:14:12 WARN DAGScheduler: Broadcasting large task binary with size 1129.4 KiB\n",
      "23/09/28 23:14:13 WARN DAGScheduler: Broadcasting large task binary with size 1148.1 KiB\n",
      "23/09/28 23:14:13 WARN DAGScheduler: Broadcasting large task binary with size 1134.7 KiB\n",
      "23/09/28 23:14:13 WARN DAGScheduler: Broadcasting large task binary with size 1135.2 KiB\n",
      "23/09/28 23:14:13 WARN DAGScheduler: Broadcasting large task binary with size 1135.8 KiB\n",
      "23/09/28 23:14:14 WARN DAGScheduler: Broadcasting large task binary with size 1136.9 KiB\n",
      "23/09/28 23:14:14 WARN DAGScheduler: Broadcasting large task binary with size 1139.2 KiB\n",
      "23/09/28 23:14:14 WARN DAGScheduler: Broadcasting large task binary with size 1142.9 KiB\n",
      "23/09/28 23:14:14 WARN DAGScheduler: Broadcasting large task binary with size 1149.6 KiB\n",
      "23/09/28 23:14:14 WARN DAGScheduler: Broadcasting large task binary with size 1160.0 KiB\n",
      "23/09/28 23:14:15 WARN DAGScheduler: Broadcasting large task binary with size 1174.0 KiB\n",
      "23/09/28 23:14:15 WARN DAGScheduler: Broadcasting large task binary with size 1192.7 KiB\n",
      "23/09/28 23:14:15 WARN DAGScheduler: Broadcasting large task binary with size 1182.7 KiB\n",
      "23/09/28 23:14:15 WARN DAGScheduler: Broadcasting large task binary with size 1183.2 KiB\n",
      "23/09/28 23:14:16 WARN DAGScheduler: Broadcasting large task binary with size 1183.8 KiB\n",
      "23/09/28 23:14:16 WARN DAGScheduler: Broadcasting large task binary with size 1184.9 KiB\n",
      "23/09/28 23:14:16 WARN DAGScheduler: Broadcasting large task binary with size 1187.2 KiB\n",
      "23/09/28 23:14:17 WARN DAGScheduler: Broadcasting large task binary with size 1190.4 KiB\n",
      "23/09/28 23:14:17 WARN DAGScheduler: Broadcasting large task binary with size 1195.9 KiB\n",
      "23/09/28 23:14:17 WARN DAGScheduler: Broadcasting large task binary with size 1202.9 KiB\n",
      "23/09/28 23:14:17 WARN DAGScheduler: Broadcasting large task binary with size 1212.9 KiB\n",
      "23/09/28 23:14:17 WARN DAGScheduler: Broadcasting large task binary with size 1228.7 KiB\n",
      "23/09/28 23:14:18 WARN DAGScheduler: Broadcasting large task binary with size 1223.1 KiB\n",
      "23/09/28 23:14:18 WARN DAGScheduler: Broadcasting large task binary with size 1223.5 KiB\n",
      "23/09/28 23:14:18 WARN DAGScheduler: Broadcasting large task binary with size 1224.1 KiB\n",
      "23/09/28 23:14:18 WARN DAGScheduler: Broadcasting large task binary with size 1225.2 KiB\n",
      "23/09/28 23:14:19 WARN DAGScheduler: Broadcasting large task binary with size 1227.3 KiB\n",
      "23/09/28 23:14:19 WARN DAGScheduler: Broadcasting large task binary with size 1230.7 KiB\n",
      "23/09/28 23:14:19 WARN DAGScheduler: Broadcasting large task binary with size 1236.2 KiB\n",
      "23/09/28 23:14:19 WARN DAGScheduler: Broadcasting large task binary with size 1243.3 KiB\n",
      "23/09/28 23:14:20 WARN DAGScheduler: Broadcasting large task binary with size 1253.5 KiB\n",
      "23/09/28 23:14:20 WARN DAGScheduler: Broadcasting large task binary with size 1269.1 KiB\n",
      "23/09/28 23:14:20 WARN DAGScheduler: Broadcasting large task binary with size 1263.4 KiB\n",
      "23/09/28 23:14:21 WARN DAGScheduler: Broadcasting large task binary with size 1263.9 KiB\n",
      "23/09/28 23:14:21 WARN DAGScheduler: Broadcasting large task binary with size 1264.5 KiB\n",
      "23/09/28 23:14:21 WARN DAGScheduler: Broadcasting large task binary with size 1265.6 KiB\n",
      "23/09/28 23:14:22 WARN DAGScheduler: Broadcasting large task binary with size 1267.9 KiB\n",
      "23/09/28 23:14:22 WARN DAGScheduler: Broadcasting large task binary with size 1272.1 KiB\n",
      "23/09/28 23:14:22 WARN DAGScheduler: Broadcasting large task binary with size 1278.9 KiB\n",
      "23/09/28 23:14:22 WARN DAGScheduler: Broadcasting large task binary with size 1290.1 KiB\n",
      "23/09/28 23:14:23 WARN DAGScheduler: Broadcasting large task binary with size 1306.9 KiB\n",
      "23/09/28 23:14:23 WARN DAGScheduler: Broadcasting large task binary with size 1331.8 KiB\n",
      "23/09/28 23:14:23 WARN DAGScheduler: Broadcasting large task binary with size 1321.7 KiB\n",
      "23/09/28 23:14:23 WARN DAGScheduler: Broadcasting large task binary with size 1322.2 KiB\n",
      "23/09/28 23:14:24 WARN DAGScheduler: Broadcasting large task binary with size 1322.8 KiB\n",
      "23/09/28 23:14:24 WARN DAGScheduler: Broadcasting large task binary with size 1323.9 KiB\n",
      "23/09/28 23:14:24 WARN DAGScheduler: Broadcasting large task binary with size 1326.2 KiB\n",
      "23/09/28 23:14:24 WARN DAGScheduler: Broadcasting large task binary with size 1330.4 KiB\n",
      "23/09/28 23:14:24 WARN DAGScheduler: Broadcasting large task binary with size 1338.8 KiB\n",
      "23/09/28 23:14:25 WARN DAGScheduler: Broadcasting large task binary with size 1353.8 KiB\n",
      "23/09/28 23:14:25 WARN DAGScheduler: Broadcasting large task binary with size 1377.4 KiB\n",
      "23/09/28 23:14:25 WARN DAGScheduler: Broadcasting large task binary with size 1409.5 KiB\n",
      "23/09/28 23:14:26 WARN DAGScheduler: Broadcasting large task binary with size 1393.8 KiB\n",
      "23/09/28 23:14:26 WARN DAGScheduler: Broadcasting large task binary with size 1394.3 KiB\n",
      "23/09/28 23:14:26 WARN DAGScheduler: Broadcasting large task binary with size 1394.8 KiB\n",
      "23/09/28 23:14:26 WARN DAGScheduler: Broadcasting large task binary with size 1396.0 KiB\n",
      "23/09/28 23:14:26 WARN DAGScheduler: Broadcasting large task binary with size 1398.2 KiB\n",
      "23/09/28 23:14:27 WARN DAGScheduler: Broadcasting large task binary with size 1402.0 KiB\n",
      "23/09/28 23:14:27 WARN DAGScheduler: Broadcasting large task binary with size 1407.6 KiB\n",
      "23/09/28 23:14:27 WARN DAGScheduler: Broadcasting large task binary with size 1413.8 KiB\n",
      "23/09/28 23:14:27 WARN DAGScheduler: Broadcasting large task binary with size 1422.3 KiB\n",
      "23/09/28 23:14:27 WARN DAGScheduler: Broadcasting large task binary with size 1435.0 KiB\n",
      "23/09/28 23:14:28 WARN DAGScheduler: Broadcasting large task binary with size 1429.6 KiB\n",
      "23/09/28 23:14:28 WARN DAGScheduler: Broadcasting large task binary with size 1430.1 KiB\n",
      "23/09/28 23:14:28 WARN DAGScheduler: Broadcasting large task binary with size 1430.6 KiB\n",
      "23/09/28 23:14:28 WARN DAGScheduler: Broadcasting large task binary with size 1431.8 KiB\n",
      "23/09/28 23:14:29 WARN DAGScheduler: Broadcasting large task binary with size 1434.1 KiB\n",
      "23/09/28 23:14:29 WARN DAGScheduler: Broadcasting large task binary with size 1438.1 KiB\n",
      "23/09/28 23:14:29 WARN DAGScheduler: Broadcasting large task binary with size 1445.3 KiB\n",
      "23/09/28 23:14:29 WARN DAGScheduler: Broadcasting large task binary with size 1456.9 KiB\n",
      "23/09/28 23:14:30 WARN DAGScheduler: Broadcasting large task binary with size 1475.6 KiB\n",
      "23/09/28 23:14:30 WARN DAGScheduler: Broadcasting large task binary with size 1502.7 KiB\n",
      "23/09/28 23:14:30 WARN DAGScheduler: Broadcasting large task binary with size 1493.0 KiB\n",
      "23/09/28 23:14:31 WARN DAGScheduler: Broadcasting large task binary with size 1493.5 KiB\n",
      "23/09/28 23:14:31 WARN DAGScheduler: Broadcasting large task binary with size 1494.0 KiB\n",
      "23/09/28 23:14:31 WARN DAGScheduler: Broadcasting large task binary with size 1495.2 KiB\n",
      "23/09/28 23:14:31 WARN DAGScheduler: Broadcasting large task binary with size 1497.4 KiB\n",
      "23/09/28 23:14:31 WARN DAGScheduler: Broadcasting large task binary with size 1501.4 KiB\n",
      "23/09/28 23:14:32 WARN DAGScheduler: Broadcasting large task binary with size 1507.1 KiB\n",
      "23/09/28 23:14:32 WARN DAGScheduler: Broadcasting large task binary with size 1513.8 KiB\n",
      "23/09/28 23:14:32 WARN DAGScheduler: Broadcasting large task binary with size 1523.2 KiB\n",
      "23/09/28 23:14:33 WARN DAGScheduler: Broadcasting large task binary with size 1537.1 KiB\n",
      "23/09/28 23:14:33 WARN DAGScheduler: Broadcasting large task binary with size 1531.4 KiB\n",
      "23/09/28 23:14:33 WARN DAGScheduler: Broadcasting large task binary with size 1531.8 KiB\n",
      "23/09/28 23:14:34 WARN DAGScheduler: Broadcasting large task binary with size 1532.4 KiB\n",
      "23/09/28 23:14:34 WARN DAGScheduler: Broadcasting large task binary with size 1533.5 KiB\n",
      "23/09/28 23:14:34 WARN DAGScheduler: Broadcasting large task binary with size 1535.6 KiB\n",
      "23/09/28 23:14:34 WARN DAGScheduler: Broadcasting large task binary with size 1539.5 KiB\n",
      "23/09/28 23:14:34 WARN DAGScheduler: Broadcasting large task binary with size 1546.5 KiB\n",
      "23/09/28 23:14:35 WARN DAGScheduler: Broadcasting large task binary with size 1555.9 KiB\n",
      "23/09/28 23:14:35 WARN DAGScheduler: Broadcasting large task binary with size 1567.2 KiB\n",
      "23/09/28 23:14:35 WARN DAGScheduler: Broadcasting large task binary with size 1584.3 KiB\n",
      "23/09/28 23:14:35 WARN DAGScheduler: Broadcasting large task binary with size 1574.1 KiB\n",
      "23/09/28 23:14:36 WARN DAGScheduler: Broadcasting large task binary with size 1574.6 KiB\n",
      "23/09/28 23:14:36 WARN DAGScheduler: Broadcasting large task binary with size 1575.2 KiB\n",
      "23/09/28 23:14:36 WARN DAGScheduler: Broadcasting large task binary with size 1576.3 KiB\n",
      "23/09/28 23:14:36 WARN DAGScheduler: Broadcasting large task binary with size 1578.3 KiB\n",
      "23/09/28 23:14:36 WARN DAGScheduler: Broadcasting large task binary with size 1582.3 KiB\n",
      "23/09/28 23:14:37 WARN DAGScheduler: Broadcasting large task binary with size 1588.7 KiB\n",
      "23/09/28 23:14:37 WARN DAGScheduler: Broadcasting large task binary with size 1598.3 KiB\n",
      "23/09/28 23:14:37 WARN DAGScheduler: Broadcasting large task binary with size 1609.4 KiB\n",
      "23/09/28 23:14:37 WARN DAGScheduler: Broadcasting large task binary with size 1624.8 KiB\n",
      "23/09/28 23:14:38 WARN DAGScheduler: Broadcasting large task binary with size 1615.5 KiB\n",
      "23/09/28 23:14:38 WARN DAGScheduler: Broadcasting large task binary with size 1615.9 KiB\n",
      "23/09/28 23:14:38 WARN DAGScheduler: Broadcasting large task binary with size 1616.5 KiB\n",
      "23/09/28 23:14:38 WARN DAGScheduler: Broadcasting large task binary with size 1617.7 KiB\n",
      "23/09/28 23:14:39 WARN DAGScheduler: Broadcasting large task binary with size 1619.9 KiB\n",
      "23/09/28 23:14:39 WARN DAGScheduler: Broadcasting large task binary with size 1623.7 KiB\n",
      "23/09/28 23:14:39 WARN DAGScheduler: Broadcasting large task binary with size 1630.3 KiB\n",
      "23/09/28 23:14:39 WARN DAGScheduler: Broadcasting large task binary with size 1638.9 KiB\n",
      "23/09/28 23:14:40 WARN DAGScheduler: Broadcasting large task binary with size 1650.7 KiB\n",
      "23/09/28 23:14:40 WARN DAGScheduler: Broadcasting large task binary with size 1666.1 KiB\n",
      "23/09/28 23:14:40 WARN DAGScheduler: Broadcasting large task binary with size 1648.1 KiB\n"
     ]
    },
    {
     "name": "stderr",
     "output_type": "stream",
     "text": [
      "                                                                                \r"
     ]
    },
    {
     "name": "stdout",
     "output_type": "stream",
     "text": [
      "23/09/28 23:15:04 WARN DAGScheduler: Broadcasting large task binary with size 1007.6 KiB\n"
     ]
    },
    {
     "name": "stderr",
     "output_type": "stream",
     "text": [
      "                                                                                \r"
     ]
    },
    {
     "name": "stdout",
     "output_type": "stream",
     "text": [
      "23/09/28 23:15:31 WARN DAGScheduler: Broadcasting large task binary with size 1007.6 KiB\n",
      "23/09/28 23:15:33 WARN DAGScheduler: Broadcasting large task binary with size 1002.0 KiB\n",
      "23/09/28 23:15:34 WARN DAGScheduler: Broadcasting large task binary with size 1006.6 KiB\n",
      "23/09/28 23:15:34 WARN DAGScheduler: Broadcasting large task binary with size 1006.0 KiB\n",
      "23/09/28 23:15:34 WARN DAGScheduler: Broadcasting large task binary with size 1006.5 KiB\n",
      "23/09/28 23:15:34 WARN DAGScheduler: Broadcasting large task binary with size 1007.1 KiB\n",
      "23/09/28 23:15:35 WARN DAGScheduler: Broadcasting large task binary with size 1008.2 KiB\n",
      "23/09/28 23:15:35 WARN DAGScheduler: Broadcasting large task binary with size 1010.0 KiB\n",
      "23/09/28 23:15:35 WARN DAGScheduler: Broadcasting large task binary with size 1012.8 KiB\n",
      "23/09/28 23:15:35 WARN DAGScheduler: Broadcasting large task binary with size 1017.5 KiB\n",
      "23/09/28 23:15:35 WARN DAGScheduler: Broadcasting large task binary with size 1024.7 KiB\n",
      "23/09/28 23:15:36 WARN DAGScheduler: Broadcasting large task binary with size 1033.1 KiB\n",
      "23/09/28 23:15:36 WARN DAGScheduler: Broadcasting large task binary with size 1045.2 KiB\n",
      "23/09/28 23:15:36 WARN DAGScheduler: Broadcasting large task binary with size 1038.3 KiB\n",
      "23/09/28 23:15:37 WARN DAGScheduler: Broadcasting large task binary with size 1038.8 KiB\n",
      "23/09/28 23:15:37 WARN DAGScheduler: Broadcasting large task binary with size 1039.3 KiB\n",
      "23/09/28 23:15:37 WARN DAGScheduler: Broadcasting large task binary with size 1040.2 KiB\n",
      "23/09/28 23:15:37 WARN DAGScheduler: Broadcasting large task binary with size 1041.9 KiB\n",
      "23/09/28 23:15:38 WARN DAGScheduler: Broadcasting large task binary with size 1044.8 KiB\n",
      "23/09/28 23:15:38 WARN DAGScheduler: Broadcasting large task binary with size 1050.2 KiB\n",
      "23/09/28 23:15:38 WARN DAGScheduler: Broadcasting large task binary with size 1059.2 KiB\n",
      "23/09/28 23:15:38 WARN DAGScheduler: Broadcasting large task binary with size 1071.8 KiB\n",
      "23/09/28 23:15:39 WARN DAGScheduler: Broadcasting large task binary with size 1089.9 KiB\n",
      "23/09/28 23:15:40 WARN DAGScheduler: Broadcasting large task binary with size 1079.6 KiB\n"
     ]
    },
    {
     "name": "stderr",
     "output_type": "stream",
     "text": [
      "                                                                                \r"
     ]
    },
    {
     "name": "stdout",
     "output_type": "stream",
     "text": [
      "23/09/28 23:15:41 WARN DAGScheduler: Broadcasting large task binary with size 1080.1 KiB\n",
      "23/09/28 23:15:41 WARN DAGScheduler: Broadcasting large task binary with size 1080.7 KiB\n",
      "23/09/28 23:15:41 WARN DAGScheduler: Broadcasting large task binary with size 1081.8 KiB\n",
      "23/09/28 23:15:41 WARN DAGScheduler: Broadcasting large task binary with size 1083.5 KiB\n",
      "23/09/28 23:15:42 WARN DAGScheduler: Broadcasting large task binary with size 1086.4 KiB\n",
      "23/09/28 23:15:42 WARN DAGScheduler: Broadcasting large task binary with size 1091.1 KiB\n",
      "23/09/28 23:15:42 WARN DAGScheduler: Broadcasting large task binary with size 1098.5 KiB\n",
      "23/09/28 23:15:43 WARN DAGScheduler: Broadcasting large task binary with size 1109.1 KiB\n",
      "23/09/28 23:15:43 WARN DAGScheduler: Broadcasting large task binary with size 1123.4 KiB\n",
      "23/09/28 23:15:44 WARN DAGScheduler: Broadcasting large task binary with size 1115.0 KiB\n",
      "23/09/28 23:15:44 WARN DAGScheduler: Broadcasting large task binary with size 1115.4 KiB\n",
      "23/09/28 23:15:44 WARN DAGScheduler: Broadcasting large task binary with size 1116.0 KiB\n",
      "23/09/28 23:15:44 WARN DAGScheduler: Broadcasting large task binary with size 1117.1 KiB\n",
      "23/09/28 23:15:45 WARN DAGScheduler: Broadcasting large task binary with size 1118.6 KiB\n",
      "23/09/28 23:15:45 WARN DAGScheduler: Broadcasting large task binary with size 1121.2 KiB\n",
      "23/09/28 23:15:45 WARN DAGScheduler: Broadcasting large task binary with size 1125.8 KiB\n",
      "23/09/28 23:15:45 WARN DAGScheduler: Broadcasting large task binary with size 1132.4 KiB\n",
      "23/09/28 23:15:46 WARN DAGScheduler: Broadcasting large task binary with size 1140.0 KiB\n",
      "23/09/28 23:15:46 WARN DAGScheduler: Broadcasting large task binary with size 1149.8 KiB\n",
      "23/09/28 23:15:46 WARN DAGScheduler: Broadcasting large task binary with size 1143.8 KiB\n",
      "23/09/28 23:15:47 WARN DAGScheduler: Broadcasting large task binary with size 1144.3 KiB\n",
      "23/09/28 23:15:47 WARN DAGScheduler: Broadcasting large task binary with size 1144.9 KiB\n",
      "23/09/28 23:15:47 WARN DAGScheduler: Broadcasting large task binary with size 1146.0 KiB\n",
      "23/09/28 23:15:48 WARN DAGScheduler: Broadcasting large task binary with size 1148.0 KiB\n",
      "23/09/28 23:15:48 WARN DAGScheduler: Broadcasting large task binary with size 1152.0 KiB\n",
      "23/09/28 23:15:48 WARN DAGScheduler: Broadcasting large task binary with size 1158.7 KiB\n",
      "23/09/28 23:15:48 WARN DAGScheduler: Broadcasting large task binary with size 1169.1 KiB\n",
      "23/09/28 23:15:49 WARN DAGScheduler: Broadcasting large task binary with size 1183.8 KiB\n",
      "23/09/28 23:15:49 WARN DAGScheduler: Broadcasting large task binary with size 1200.5 KiB\n",
      "23/09/28 23:15:50 WARN DAGScheduler: Broadcasting large task binary with size 1187.4 KiB\n",
      "23/09/28 23:15:50 WARN DAGScheduler: Broadcasting large task binary with size 1187.9 KiB\n",
      "23/09/28 23:15:50 WARN DAGScheduler: Broadcasting large task binary with size 1188.2 KiB\n",
      "23/09/28 23:15:50 WARN DAGScheduler: Broadcasting large task binary with size 1188.8 KiB\n",
      "23/09/28 23:15:50 WARN DAGScheduler: Broadcasting large task binary with size 1189.9 KiB\n",
      "23/09/28 23:15:51 WARN DAGScheduler: Broadcasting large task binary with size 1191.9 KiB\n",
      "23/09/28 23:15:51 WARN DAGScheduler: Broadcasting large task binary with size 1195.1 KiB\n",
      "23/09/28 23:15:51 WARN DAGScheduler: Broadcasting large task binary with size 1200.5 KiB\n",
      "23/09/28 23:15:51 WARN DAGScheduler: Broadcasting large task binary with size 1207.6 KiB\n",
      "23/09/28 23:15:52 WARN DAGScheduler: Broadcasting large task binary with size 1216.8 KiB\n",
      "23/09/28 23:15:52 WARN DAGScheduler: Broadcasting large task binary with size 1210.8 KiB\n",
      "23/09/28 23:15:52 WARN DAGScheduler: Broadcasting large task binary with size 1211.2 KiB\n",
      "23/09/28 23:15:52 WARN DAGScheduler: Broadcasting large task binary with size 1211.8 KiB\n",
      "23/09/28 23:15:52 WARN DAGScheduler: Broadcasting large task binary with size 1212.9 KiB\n",
      "23/09/28 23:15:52 WARN DAGScheduler: Broadcasting large task binary with size 1214.9 KiB\n",
      "23/09/28 23:15:53 WARN DAGScheduler: Broadcasting large task binary with size 1217.6 KiB\n",
      "23/09/28 23:15:53 WARN DAGScheduler: Broadcasting large task binary with size 1222.2 KiB\n",
      "23/09/28 23:15:53 WARN DAGScheduler: Broadcasting large task binary with size 1229.9 KiB\n",
      "23/09/28 23:15:53 WARN DAGScheduler: Broadcasting large task binary with size 1241.1 KiB\n",
      "23/09/28 23:15:54 WARN DAGScheduler: Broadcasting large task binary with size 1256.0 KiB\n",
      "23/09/28 23:15:54 WARN DAGScheduler: Broadcasting large task binary with size 1246.6 KiB\n",
      "23/09/28 23:15:54 WARN DAGScheduler: Broadcasting large task binary with size 1247.1 KiB\n",
      "23/09/28 23:15:55 WARN DAGScheduler: Broadcasting large task binary with size 1247.6 KiB\n",
      "23/09/28 23:15:55 WARN DAGScheduler: Broadcasting large task binary with size 1248.8 KiB\n",
      "23/09/28 23:15:55 WARN DAGScheduler: Broadcasting large task binary with size 1250.8 KiB\n",
      "23/09/28 23:15:55 WARN DAGScheduler: Broadcasting large task binary with size 1253.7 KiB\n",
      "23/09/28 23:15:55 WARN DAGScheduler: Broadcasting large task binary with size 1258.8 KiB\n",
      "23/09/28 23:15:56 WARN DAGScheduler: Broadcasting large task binary with size 1265.6 KiB\n",
      "23/09/28 23:15:56 WARN DAGScheduler: Broadcasting large task binary with size 1274.2 KiB\n",
      "23/09/28 23:15:56 WARN DAGScheduler: Broadcasting large task binary with size 1285.8 KiB\n",
      "23/09/28 23:15:57 WARN DAGScheduler: Broadcasting large task binary with size 1278.8 KiB\n",
      "23/09/28 23:15:57 WARN DAGScheduler: Broadcasting large task binary with size 1279.3 KiB\n",
      "23/09/28 23:15:57 WARN DAGScheduler: Broadcasting large task binary with size 1279.9 KiB\n",
      "23/09/28 23:15:58 WARN DAGScheduler: Broadcasting large task binary with size 1281.0 KiB\n",
      "23/09/28 23:15:58 WARN DAGScheduler: Broadcasting large task binary with size 1282.8 KiB\n",
      "23/09/28 23:15:59 WARN DAGScheduler: Broadcasting large task binary with size 1285.4 KiB\n",
      "23/09/28 23:15:59 WARN DAGScheduler: Broadcasting large task binary with size 1290.0 KiB\n",
      "23/09/28 23:15:59 WARN DAGScheduler: Broadcasting large task binary with size 1297.2 KiB\n",
      "23/09/28 23:16:00 WARN DAGScheduler: Broadcasting large task binary with size 1307.2 KiB\n",
      "23/09/28 23:16:00 WARN DAGScheduler: Broadcasting large task binary with size 1318.9 KiB\n",
      "23/09/28 23:16:01 WARN DAGScheduler: Broadcasting large task binary with size 1301.4 KiB\n"
     ]
    },
    {
     "name": "stderr",
     "output_type": "stream",
     "text": [
      "                                                                                \r"
     ]
    },
    {
     "name": "stdout",
     "output_type": "stream",
     "text": [
      "23/09/28 23:17:08 WARN DAGScheduler: Broadcasting large task binary with size 1001.7 KiB\n",
      "23/09/28 23:17:08 WARN DAGScheduler: Broadcasting large task binary with size 1006.5 KiB\n",
      "23/09/28 23:17:09 WARN DAGScheduler: Broadcasting large task binary with size 1001.7 KiB\n",
      "23/09/28 23:17:09 WARN DAGScheduler: Broadcasting large task binary with size 1002.2 KiB\n",
      "23/09/28 23:17:09 WARN DAGScheduler: Broadcasting large task binary with size 1002.5 KiB\n",
      "23/09/28 23:17:09 WARN DAGScheduler: Broadcasting large task binary with size 1003.1 KiB\n",
      "23/09/28 23:17:10 WARN DAGScheduler: Broadcasting large task binary with size 1004.0 KiB\n",
      "23/09/28 23:17:10 WARN DAGScheduler: Broadcasting large task binary with size 1005.4 KiB\n",
      "23/09/28 23:17:10 WARN DAGScheduler: Broadcasting large task binary with size 1008.0 KiB\n",
      "23/09/28 23:17:10 WARN DAGScheduler: Broadcasting large task binary with size 1011.1 KiB\n",
      "23/09/28 23:17:11 WARN DAGScheduler: Broadcasting large task binary with size 1016.3 KiB\n",
      "23/09/28 23:17:11 WARN DAGScheduler: Broadcasting large task binary with size 1024.0 KiB\n",
      "23/09/28 23:17:11 WARN DAGScheduler: Broadcasting large task binary with size 1021.5 KiB\n",
      "23/09/28 23:17:11 WARN DAGScheduler: Broadcasting large task binary with size 1022.0 KiB\n",
      "23/09/28 23:17:11 WARN DAGScheduler: Broadcasting large task binary with size 1022.5 KiB\n",
      "23/09/28 23:17:12 WARN DAGScheduler: Broadcasting large task binary with size 1023.7 KiB\n",
      "23/09/28 23:17:12 WARN DAGScheduler: Broadcasting large task binary with size 1025.7 KiB\n",
      "23/09/28 23:17:12 WARN DAGScheduler: Broadcasting large task binary with size 1029.1 KiB\n",
      "23/09/28 23:17:12 WARN DAGScheduler: Broadcasting large task binary with size 1033.4 KiB\n",
      "23/09/28 23:17:13 WARN DAGScheduler: Broadcasting large task binary with size 1038.3 KiB\n",
      "23/09/28 23:17:13 WARN DAGScheduler: Broadcasting large task binary with size 1042.6 KiB\n",
      "23/09/28 23:17:14 WARN DAGScheduler: Broadcasting large task binary with size 1047.2 KiB\n",
      "23/09/28 23:17:15 WARN DAGScheduler: Broadcasting large task binary with size 1031.9 KiB\n"
     ]
    },
    {
     "name": "stderr",
     "output_type": "stream",
     "text": [
      "[Stage 4786:>                                                       (0 + 1) / 1]\r"
     ]
    },
    {
     "name": "stdout",
     "output_type": "stream",
     "text": [
      "+--------------------+-----+----------+\n",
      "|            features|label|prediction|\n",
      "+--------------------+-----+----------+\n",
      "|(56,[0,1,2,4,6,7,...|    1|       1.0|\n",
      "|(56,[0,1,2,6,8,9,...|    1|       0.0|\n",
      "|(56,[0,1,2,6,7,8,...|    1|       0.0|\n",
      "|(56,[0,1,2,3,4,6,...|    1|       0.0|\n",
      "|[90.9000015258789...|    1|       1.0|\n",
      "|[117.120002746582...|    1|       0.0|\n",
      "|[77.0400009155273...|    1|       0.0|\n",
      "|(56,[0,1,2,3,6,7,...|    1|       1.0|\n",
      "|(56,[0,1,2,6,7,8,...|    1|       0.0|\n",
      "|[79.8799972534179...|    1|       0.0|\n",
      "+--------------------+-----+----------+\n",
      "only showing top 10 rows\n",
      "\n"
     ]
    },
    {
     "name": "stderr",
     "output_type": "stream",
     "text": [
      "                                                                                \r"
     ]
    }
   ],
   "source": [
    "# Validation for hyper-parameter tuning.\n",
    "# Randomly splits the input dataset into train and validation sets,\n",
    "# and uses evaluation metric on the validation set to select the best model.\n",
    "gbt = GBTClassifier(\n",
    "    featuresCol=\"features\", labelCol=\"label\", predictionCol=\"prediction\"\n",
    ")\n",
    "\n",
    "# Use a ParamGridBuilder to construct a grid of parameters to search over.\n",
    "# TrainValidationSplit will try all combinations of values and determine best model using the evaluator.\n",
    "paramGrid = (\n",
    "    ParamGridBuilder()\n",
    "    .addGrid(gbt.maxDepth, [8, 10])\n",
    "    .addGrid(gbt.minInstancesPerNode, [5, 20, 50])\n",
    "    .addGrid(gbt.maxIter, [10, 20])\n",
    "    .build()\n",
    ")\n",
    "\n",
    "# In this case the estimator is BinaryClassificationEvaluator\n",
    "# A TrainValidationSplit requires an Estimator, a set of Estimator ParamMaps, and an Evaluator.\n",
    "tvs = TrainValidationSplit(\n",
    "    estimator=gbt,\n",
    "    estimatorParamMaps=paramGrid,\n",
    "    evaluator=BinaryClassificationEvaluator(),\n",
    "    trainRatio=0.8,\n",
    ")  # 80% of the data will be used for training, 20% for validation.\n",
    "\n",
    "# Run TrainValidationSplit, and choose the best set of parameters.\n",
    "model_gbt = tvs.fit(train)\n",
    "\n",
    "# Make predictions on test data. model is the model with combination of parameters that performed best.\n",
    "model_gbt.transform(test).select(\"features\", \"label\", \"prediction\").show(10)\n"
   ]
  },
  {
   "cell_type": "code",
   "execution_count": 87,
   "metadata": {},
   "outputs": [],
   "source": [
    "predictions_gbt = model_gbt.transform(scaledData)"
   ]
  },
  {
   "cell_type": "markdown",
   "metadata": {},
   "source": [
    "## Evaluation and comparision"
   ]
  },
  {
   "cell_type": "markdown",
   "metadata": {},
   "source": [
    "#### Making Evaluators"
   ]
  },
  {
   "cell_type": "code",
   "execution_count": 55,
   "metadata": {},
   "outputs": [],
   "source": [
    "binary_evaluator = BinaryClassificationEvaluator(labelCol=\"label\", rawPredictionCol=\"rawPrediction\", metricName=\"areaUnderROC\")\n",
    "acc_evaluator = MulticlassClassificationEvaluator(labelCol=\"label\", predictionCol=\"prediction\", metricName=\"accuracy\")\n",
    "precision_evaluator = MulticlassClassificationEvaluator(labelCol=\"label\", predictionCol=\"prediction\", metricName=\"weightedPrecision\")\n",
    "recall_evaluator = MulticlassClassificationEvaluator(labelCol=\"label\", predictionCol=\"prediction\", metricName=\"weightedRecall\")\n",
    "f1_evaluator = MulticlassClassificationEvaluator(labelCol=\"label\", predictionCol=\"prediction\", metricName=\"f1\")"
   ]
  },
  {
   "cell_type": "code",
   "execution_count": 86,
   "metadata": {},
   "outputs": [
    {
     "name": "stdout",
     "output_type": "stream",
     "text": [
      "23/09/28 23:31:16 WARN DAGScheduler: Broadcasting large task binary with size 1240.5 KiB\n"
     ]
    },
    {
     "name": "stderr",
     "output_type": "stream",
     "text": [
      "                                                                                \r"
     ]
    },
    {
     "name": "stdout",
     "output_type": "stream",
     "text": [
      "23/09/28 23:31:26 WARN DAGScheduler: Broadcasting large task binary with size 1252.0 KiB\n"
     ]
    },
    {
     "name": "stderr",
     "output_type": "stream",
     "text": [
      "                                                                                \r"
     ]
    },
    {
     "name": "stdout",
     "output_type": "stream",
     "text": [
      "23/09/28 23:31:35 WARN DAGScheduler: Broadcasting large task binary with size 1252.0 KiB\n"
     ]
    },
    {
     "name": "stderr",
     "output_type": "stream",
     "text": [
      "                                                                                \r"
     ]
    },
    {
     "name": "stdout",
     "output_type": "stream",
     "text": [
      "23/09/28 23:31:39 WARN DAGScheduler: Broadcasting large task binary with size 1252.0 KiB\n"
     ]
    },
    {
     "name": "stderr",
     "output_type": "stream",
     "text": [
      "                                                                                \r"
     ]
    },
    {
     "name": "stdout",
     "output_type": "stream",
     "text": [
      "23/09/28 23:31:43 WARN DAGScheduler: Broadcasting large task binary with size 1252.0 KiB\n"
     ]
    },
    {
     "name": "stderr",
     "output_type": "stream",
     "text": [
      "                                                                                \r"
     ]
    }
   ],
   "source": [
    "auroc = binary_evaluator.evaluate(predictions)\n",
    "acc = acc_evaluator.evaluate(predictions)\n",
    "precision = precision_evaluator.evaluate(predictions)\n",
    "rc = recall_evaluator.evaluate(predictions)\n",
    "f1 = f1_evaluator.evaluate(predictions)"
   ]
  },
  {
   "cell_type": "code",
   "execution_count": 88,
   "metadata": {},
   "outputs": [
    {
     "name": "stderr",
     "output_type": "stream",
     "text": [
      "                                                                                \r"
     ]
    }
   ],
   "source": [
    "auroc_gbt = binary_evaluator.evaluate(predictions_gbt)\n",
    "acc_gbt = acc_evaluator.evaluate(predictions_gbt)\n",
    "precision_gbt = precision_evaluator.evaluate(predictions_gbt)\n",
    "rc_gbt = recall_evaluator.evaluate(predictions_gbt)\n",
    "f1_gbt = f1_evaluator.evaluate(predictions_gbt)"
   ]
  },
  {
   "cell_type": "markdown",
   "metadata": {},
   "source": [
    "#### Comparing both models"
   ]
  },
  {
   "cell_type": "code",
   "execution_count": 89,
   "metadata": {},
   "outputs": [
    {
     "name": "stderr",
     "output_type": "stream",
     "text": [
      "[Stage 4825:>                                                       (0 + 1) / 1]\r"
     ]
    },
    {
     "name": "stdout",
     "output_type": "stream",
     "text": [
      "+--------------------+------------------+------------------+------------------+------------------+------------------+\n",
      "|          Model Name|          Accuracy|         Precision|            Recall|                F1|             AUROC|\n",
      "+--------------------+------------------+------------------+------------------+------------------+------------------+\n",
      "|Random Forest Cla...|0.6283365492844509|0.7280032837934737|0.6283365492844509|0.6459137503770116| 0.732022223570369|\n",
      "|Gradient Boost Cl...|0.6489990352146647|0.7250564114462834|0.6489990352146647|0.6657164401168725|0.7291922366555538|\n",
      "+--------------------+------------------+------------------+------------------+------------------+------------------+\n",
      "\n"
     ]
    },
    {
     "name": "stderr",
     "output_type": "stream",
     "text": [
      "                                                                                \r"
     ]
    }
   ],
   "source": [
    "metrics = spark.createDataFrame([ (\"Random Forest Classifier\",acc, precision,rc,f1,auroc) ,\n",
    "                                  (\"Gradient Boost Classifier\",acc_gbt, precision_gbt, rc_gbt, f1_gbt, auroc_gbt) \n",
    "                                ],\n",
    "\n",
    "                                [\"Model Name\",\"Accuracy\", \"Precision\",\"Recall\",\"F1\",\"AUROC\"]\n",
    "                              )\n",
    "metrics.show()"
   ]
  },
  {
   "cell_type": "markdown",
   "metadata": {},
   "source": [
    "## Segmenting Customers using KMeans"
   ]
  },
  {
   "cell_type": "markdown",
   "metadata": {},
   "source": [
    "In this section, we will employ the KMeans algorithm to construct a Customer Segmentation model. Subsequently, we will analyze the distinctive characteristics of each cluster.\n",
    "\n",
    "Customer segmentation involves categorizing customers into groups based on shared characteristics pertinent to marketing, including factors such as age, tenure, service usage, and expenditure.\n",
    "\n",
    "By leveraging the insights gleaned from customer segmentation, the telecommunications company can fine-tune their marketing strategies for each distinct cluster. This approach allows for a more precise alignment with customer preferences, resulting in tailored marketing materials that resonate effectively."
   ]
  },
  {
   "cell_type": "code",
   "execution_count": 91,
   "metadata": {},
   "outputs": [
    {
     "name": "stderr",
     "output_type": "stream",
     "text": [
      "                                                                                \r"
     ]
    }
   ],
   "source": [
    "# Trains a k-means model\n",
    "kmeans = KMeans(featuresCol=\"scaledFeatures\", k=4, initSteps=2, tol=0.0001, maxIter=20)\n",
    "model_km = kmeans.fit(scaledData)"
   ]
  },
  {
   "cell_type": "code",
   "execution_count": 92,
   "metadata": {},
   "outputs": [],
   "source": [
    "predictions_km = model.transform(scaledData)\n"
   ]
  },
  {
   "cell_type": "code",
   "execution_count": 99,
   "metadata": {},
   "outputs": [
    {
     "name": "stdout",
     "output_type": "stream",
     "text": [
      "23/09/28 23:43:30 WARN DAGScheduler: Broadcasting large task binary with size 1245.7 KiB\n"
     ]
    },
    {
     "name": "stderr",
     "output_type": "stream",
     "text": [
      "                                                                                \r"
     ]
    },
    {
     "name": "stdout",
     "output_type": "stream",
     "text": [
      "23/09/28 23:43:39 WARN DAGScheduler: Broadcasting large task binary with size 1188.9 KiB\n"
     ]
    },
    {
     "name": "stderr",
     "output_type": "stream",
     "text": [
      "[Stage 4938:==============>                                         (1 + 3) / 4]\r"
     ]
    },
    {
     "name": "stdout",
     "output_type": "stream",
     "text": [
      "Silhouette with squared euclidean distance = 0.09571853560347696\n"
     ]
    },
    {
     "name": "stderr",
     "output_type": "stream",
     "text": [
      "                                                                                \r"
     ]
    }
   ],
   "source": [
    "evaluator = ClusteringEvaluator()\n",
    "\n",
    "silhouette = evaluator.evaluate(predictions_km)\n",
    "print(\"Silhouette with squared euclidean distance = \" + str(silhouette))"
   ]
  },
  {
   "cell_type": "code",
   "execution_count": 100,
   "metadata": {},
   "outputs": [
    {
     "name": "stdout",
     "output_type": "stream",
     "text": [
      "23/09/28 23:43:51 WARN DAGScheduler: Broadcasting large task binary with size 1200.0 KiB\n"
     ]
    },
    {
     "name": "stderr",
     "output_type": "stream",
     "text": [
      "                                                                                \r"
     ]
    }
   ],
   "source": [
    "# Create a Pandas DataFrame for data visualization\n",
    "cluster = predictions_km.toPandas()"
   ]
  },
  {
   "cell_type": "code",
   "execution_count": 107,
   "metadata": {},
   "outputs": [],
   "source": [
    "importance = model.bestModel.featureImportances\n",
    "features_list = inputcols"
   ]
  },
  {
   "cell_type": "code",
   "execution_count": 106,
   "metadata": {},
   "outputs": [],
   "source": [
    "feature_importance = pd.DataFrame(\n",
    "    data={\"features_list\": features_list, \"importance\": importance}\n",
    ")"
   ]
  },
  {
   "cell_type": "code",
   "execution_count": 104,
   "metadata": {},
   "outputs": [
    {
     "data": {
      "image/png": "[encoded data removed]",
      "text/plain": [
       "<Figure size 1080x360 with 5 Axes>"
      ]
     },
     "metadata": {
      "needs_background": "light"
     },
     "output_type": "display_data"
    }
   ],
   "source": [
    "# Compare the different distributions of each cluster\n",
    "temp_list = list(feature_importance.iloc[:5, 0])\n",
    "temp_list.append(\"prediction\")\n",
    "temp = cluster.loc[:, temp_list]\n",
    "\n",
    "fig, axs = plt.subplots(figsize=(15, 5), ncols=len(temp_list) - 1)\n",
    "\n",
    "for i in range(len(temp_list) - 1):\n",
    "    ax = sns.barplot(x=\"prediction\", y=temp_list[i], data=temp, ax=axs[i])\n",
    "    ax.set_xlabel(\"cluster\", fontsize=12)\n",
    "    ax.set_ylabel(temp_list[i], fontsize=12, color=\"blue\")\n"
   ]
  },
  {
   "cell_type": "markdown",
   "metadata": {},
   "source": [
    "## Conclusions"
   ]
  },
  {
   "cell_type": "markdown",
   "metadata": {},
   "source": [
    "1. a\n",
    "2. b"
   ]
  },
  {
   "cell_type": "markdown",
   "metadata": {},
   "source": []
  }
 ],
 "metadata": {
  "kernelspec": {
   "display_name": "base",
   "language": "python",
   "name": "python3"
  },
  "language_info": {
   "codemirror_mode": {
    "name": "ipython",
    "version": 3
   },
   "file_extension": ".py",
   "mimetype": "text/x-python",
   "name": "python",
   "nbconvert_exporter": "python",
   "pygments_lexer": "ipython3",
   "version": "3.9.7"
  },
  "orig_nbformat": 4
 },
 "nbformat": 4,
 "nbformat_minor": 2
}
